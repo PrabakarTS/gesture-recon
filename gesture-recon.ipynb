{
 "cells": [
  {
   "cell_type": "markdown",
   "metadata": {
    "id": "MgpXe5nfBqpN"
   },
   "source": [
    "# Gesture Recognition\n",
    "In this group project, you are going to build a 3D Conv model that will be able to predict the 5 gestures correctly. Please import the following libraries to get started."
   ]
  },
  {
   "cell_type": "code",
   "execution_count": 2,
   "metadata": {
    "colab": {
     "base_uri": "https://localhost:8080/"
    },
    "executionInfo": {
     "elapsed": 23659,
     "status": "ok",
     "timestamp": 1714483768922,
     "user": {
      "displayName": "TSP Home",
      "userId": "06611171722658597897"
     },
     "user_tz": -330
    },
    "id": "amRCcatvCd5R",
    "outputId": "9431642a-9fe6-455c-92ae-bfd95cbad306"
   },
   "outputs": [],
   "source": [
    "## If you are using the data by mounting the google drive, use the following :\n",
    "#from google.colab import drive\n",
    "#drive.mount('/content/drive/')"
   ]
  },
  {
   "cell_type": "code",
   "execution_count": 22,
   "metadata": {
    "executionInfo": {
     "elapsed": 4,
     "status": "ok",
     "timestamp": 1714483942738,
     "user": {
      "displayName": "TSP Home",
      "userId": "06611171722658597897"
     },
     "user_tz": -330
    },
    "id": "aP1wnfGJBqpT"
   },
   "outputs": [],
   "source": [
    "import numpy as np\n",
    "import os\n",
    "from scipy.misc import imread, imresize\n",
    "#from skimage.transform import resize\n",
    "#from skimage.io import imread\n",
    "import datetime\n",
    "import os\n",
    "\n",
    "from keras.models import Sequential, Model\n",
    "from keras.layers import Dense, GRU, Flatten, TimeDistributed, Flatten, BatchNormalization, Activation,Dropout\n",
    "from keras.layers import Conv3D, MaxPooling3D\n",
    "from keras.callbacks import ModelCheckpoint, ReduceLROnPlateau\n",
    "from keras import optimizers"
   ]
  },
  {
   "cell_type": "markdown",
   "metadata": {
    "id": "h7swnhjJBqpW"
   },
   "source": [
    "We set the random seed so that the results don't vary drastically."
   ]
  },
  {
   "cell_type": "code",
   "execution_count": 12,
   "metadata": {
    "executionInfo": {
     "elapsed": 330,
     "status": "ok",
     "timestamp": 1714483947355,
     "user": {
      "displayName": "TSP Home",
      "userId": "06611171722658597897"
     },
     "user_tz": -330
    },
    "id": "dKX9mf5uBqpW"
   },
   "outputs": [],
   "source": [
    "np.random.seed(30)\n",
    "import random as rn\n",
    "rn.seed(30)\n",
    "from keras import backend as K\n",
    "import tensorflow as tf\n",
    "#tf.set_random_seed(30)\n",
    "tf.random.set_seed(30)"
   ]
  },
  {
   "cell_type": "markdown",
   "metadata": {
    "id": "wqI46VlbBqpX"
   },
   "source": [
    "In this block, you read the folder names for training and validation. You also set the `batch_size` here. Note that you set the batch size in such a way that you are able to use the GPU in full capacity. You keep increasing the batch size until the machine throws an error."
   ]
  },
  {
   "cell_type": "code",
   "execution_count": 13,
   "metadata": {
    "executionInfo": {
     "elapsed": 909,
     "status": "ok",
     "timestamp": 1714483951128,
     "user": {
      "displayName": "TSP Home",
      "userId": "06611171722658597897"
     },
     "user_tz": -330
    },
    "id": "SdV3Rud5BqpX"
   },
   "outputs": [],
   "source": [
    "#train_doc = np.random.permutation(open('/notebooks/storage/Final_data/Collated_training/train.csv').readlines())\n",
    "#val_doc = np.random.permutation(open('/notebooks/storage/Final_data/Collated_training/val.csv').readlines())\n",
    "#base_path='/content/drive/My Drive/app/Gesture-Assignment/'\n",
    "base_path='/datasets/'\n",
    "train_doc = np.random.permutation(open(base_path+'Project_data/train.csv').readlines())\n",
    "val_doc = np.random.permutation(open(base_path+'Project_data/val.csv').readlines())\n",
    "batch_size = 32 #experiment with the batch size"
   ]
  },
  {
   "cell_type": "markdown",
   "metadata": {
    "id": "vx8Wl0c_BqpY"
   },
   "source": [
    "## Generator\n",
    "This is one of the most important part of the code. The overall structure of the generator has been given. In the generator, you are going to preprocess the images as you have images of 2 different dimensions as well as create a batch of video frames. You have to experiment with `img_idx`, `y`,`z` and normalization such that you get high accuracy."
   ]
  },
  {
   "cell_type": "code",
   "execution_count": 4,
   "metadata": {
    "executionInfo": {
     "elapsed": 3,
     "status": "ok",
     "timestamp": 1714483954348,
     "user": {
      "displayName": "TSP Home",
      "userId": "06611171722658597897"
     },
     "user_tz": -330
    },
    "id": "C5qky58OBqpY"
   },
   "outputs": [],
   "source": [
    "def generator(source_path, folder_list, batch_size):\n",
    "    print( 'Source path = ', source_path, '; batch size =', batch_size)\n",
    "    img_idx = [2,4,6,8,10,12,14,16,18,20,22,24,26]\n",
    "    while True:\n",
    "        t = np.random.permutation(folder_list)\n",
    "        num_batches = len(t) // batch_size # calculate the number of batches\n",
    "        for batch in range(num_batches): # we iterate over the number of batches\n",
    "            batch_data = np.zeros((batch_size,13,100,100,3)) # x is the number of images you use for each video, (y,z) is the final size of the input images and 3 is the number of channels RGB\n",
    "            batch_labels = np.zeros((batch_size,5)) # batch_labels is the one hot representation of the output\n",
    "            for folder in range(batch_size): # iterate over the batch_size\n",
    "                imgs = os.listdir(source_path+'/'+ t[folder + (batch*batch_size)].split(';')[0]) # read all the images in the folder\n",
    "                for idx,item in enumerate(img_idx): #  Iterate iver the frames/images of a folder to read them in\n",
    "                    image = imread(source_path+'/'+ t[folder + (batch*batch_size)].strip().split(';')[0]+'/'+imgs[item]).astype(np.float32)\n",
    "\n",
    "                    #crop the images and resize them. Note that the images are of 2 different shape\n",
    "                    image = resize(image,(100,100)).astype(np.float32)\n",
    "\n",
    "                    #and the conv3D will throw error if the inputs in a batch have different shapes\n",
    "                    batch_data[folder,idx,:,:,0] = (image[:,:,0])/255 #normalise and feed in the image\n",
    "                    batch_data[folder,idx,:,:,1] = (image[:,:,1])/255 #normalise and feed in the image\n",
    "                    batch_data[folder,idx,:,:,2] = (image[:,:,2])/255 #normalise and feed in the image\n",
    "\n",
    "                batch_labels[folder, int(t[folder + (batch*batch_size)].strip().split(';')[2])] = 1\n",
    "            yield batch_data, batch_labels #you yield the batch_data and the batch_labels, remember what does yield do\n",
    "\n",
    "\n",
    "        # write the code for the remaining data points which are left after full batches\n",
    "        if len(t) % batch_size != 0:\n",
    "            batch_data = np.zeros((batch_size,13,100,100,3))\n",
    "            batch_labels = np.zeros((batch_size,5)) # batch_labels is the one hot representation of the output\n",
    "            for folder in range(batch_size): # iterate over the batch_size\n",
    "                imgs = os.listdir(source_path+'/'+ t[folder + (batch*batch_size)].split(';')[0]) # read all the images in the folder\n",
    "                for idx,item in enumerate(img_idx): #  Iterate iver the frames/images of a folder to read them in\n",
    "                    image = imread(source_path+'/'+ t[folder + (batch*batch_size)].strip().split(';')[0]+'/'+imgs[item]).astype(np.float32)\n",
    "                    image = resize(image,(100,100)).astype(np.float32)\n",
    "                    batch_data[folder,idx,:,:,0] = (image[:,:,0])/255\n",
    "                    batch_data[folder,idx,:,:,1] = (image[:,:,1])/255\n",
    "                    batch_data[folder,idx,:,:,2] = (image[:,:,2])/255\n",
    "                batch_labels[folder, int(t[folder + (batch*batch_size)].strip().split(';')[2])] = 1\n",
    "            yield batch_data, batch_labels #you yield the batch_data and the batch_labels, remember what does yield does"
   ]
  },
  {
   "cell_type": "markdown",
   "metadata": {
    "id": "yEolkkrDBqpZ"
   },
   "source": [
    "Note here that a video is represented above in the generator as (number of images, height, width, number of channels). Take this into consideration while creating the model architecture."
   ]
  },
  {
   "cell_type": "code",
   "execution_count": 9,
   "metadata": {
    "colab": {
     "base_uri": "https://localhost:8080/"
    },
    "executionInfo": {
     "elapsed": 13,
     "status": "ok",
     "timestamp": 1714483961187,
     "user": {
      "displayName": "TSP Home",
      "userId": "06611171722658597897"
     },
     "user_tz": -330
    },
    "id": "DyB6YMT0BqpZ",
    "outputId": "632a3fb0-5ee7-49f2-a9c6-2552e4d8c392"
   },
   "outputs": [
    {
     "name": "stdout",
     "output_type": "stream",
     "text": [
      "# training sequences = 663\n",
      "# validation sequences = 100\n",
      "# epochs = 20\n"
     ]
    }
   ],
   "source": [
    "curr_dt_time = datetime.datetime.now()\n",
    "train_path = base_path+'Project_data/train' #'/notebooks/storage/Final_data/Collated_training/train'\n",
    "val_path = base_path+'Project_data/val' #'/notebooks/storage/Final_data/Collated_training/val'\n",
    "num_train_sequences = len(train_doc)\n",
    "print('# training sequences =', num_train_sequences)\n",
    "num_val_sequences = len(val_doc)\n",
    "print('# validation sequences =', num_val_sequences)\n",
    "num_epochs = 20 # choose the number of epochs\n",
    "print ('# epochs =', num_epochs)"
   ]
  },
  {
   "cell_type": "markdown",
   "metadata": {
    "id": "qmMz0VSbBqpa"
   },
   "source": [
    "## First Model\n",
    "Here you make the model using different functionalities that Keras provides. Remember to use `Conv3D` and `MaxPooling3D` and not `Conv2D` and `Maxpooling2D` for a 3D convolution model. You would want to use `TimeDistributed` while building a Conv2D + RNN model. Also remember that the last layer is the softmax. Design the network in such a way that the model is able to give good accuracy on the least number of parameters so that it can fit in the memory of the webcam."
   ]
  },
  {
   "cell_type": "code",
   "execution_count": 6,
   "metadata": {
    "executionInfo": {
     "elapsed": 1727,
     "status": "ok",
     "timestamp": 1714483966543,
     "user": {
      "displayName": "TSP Home",
      "userId": "06611171722658597897"
     },
     "user_tz": -330
    },
    "id": "riCS4jc_Bqpa"
   },
   "outputs": [
    {
     "name": "stderr",
     "output_type": "stream",
     "text": [
      "2024-04-30 14:34:02.119459: W tensorflow/core/common_runtime/gpu/gpu_bfc_allocator.cc:39] Overriding allow_growth setting because the TF_FORCE_GPU_ALLOW_GROWTH environment variable is set. Original config value was 0.\n",
      "2024-04-30 14:34:02.119522: I tensorflow/core/common_runtime/gpu/gpu_device.cc:1525] Created device /job:localhost/replica:0/task:0/device:GPU:0 with 22849 MB memory:  -> device: 0, name: Quadro RTX 6000, pci bus id: 0000:40:00.0, compute capability: 7.5\n"
     ]
    }
   ],
   "source": [
    "\n",
    "\n",
    "#write your model here\n",
    "model = Sequential()\n",
    "model.add(Conv3D(32, (3, 3, 3), padding='same',\n",
    "         input_shape=(13,100,100,3)))\n",
    "model.add(Activation('relu'))\n",
    "model.add(BatchNormalization())\n",
    "model.add(MaxPooling3D(pool_size=(2, 2, 2)))\n",
    "\n",
    "model.add(Conv3D(64, (2, 2, 2), padding='same'))\n",
    "model.add(Activation('relu'))\n",
    "model.add(BatchNormalization())\n",
    "model.add(MaxPooling3D(pool_size=(2, 2, 2)))\n",
    "\n",
    "model.add(Conv3D(128, (2, 2, 2), padding='same'))\n",
    "model.add(Activation('relu'))\n",
    "model.add(BatchNormalization())\n",
    "model.add(MaxPooling3D(pool_size=(2, 2, 2)))\n",
    "\n",
    "model.add(Flatten())\n",
    "model.add(Dense(128,activation='relu'))\n",
    "model.add(BatchNormalization())\n",
    "model.add(Dropout(0.5))\n",
    "\n",
    "model.add(Dense(64,activation='relu'))\n",
    "model.add(BatchNormalization())\n",
    "model.add(Dropout(0.25))\n",
    "\n",
    "model.add(Dense(5,activation='softmax'))"
   ]
  },
  {
   "cell_type": "markdown",
   "metadata": {
    "id": "BNeFQntRBqpa"
   },
   "source": [
    "Now that you have written the model, the next step is to `compile` the model. When you print the `summary` of the model, you'll see the total number of parameters you have to train."
   ]
  },
  {
   "cell_type": "code",
   "execution_count": 7,
   "metadata": {
    "colab": {
     "base_uri": "https://localhost:8080/"
    },
    "executionInfo": {
     "elapsed": 17,
     "status": "ok",
     "timestamp": 1714483969668,
     "user": {
      "displayName": "TSP Home",
      "userId": "06611171722658597897"
     },
     "user_tz": -330
    },
    "id": "BexfAtB-Bqpb",
    "outputId": "d98d34e7-cf2b-49aa-f607-54b4c83ab856",
    "scrolled": true
   },
   "outputs": [
    {
     "name": "stdout",
     "output_type": "stream",
     "text": [
      "Model: \"sequential\"\n",
      "_________________________________________________________________\n",
      " Layer (type)                Output Shape              Param #   \n",
      "=================================================================\n",
      " conv3d (Conv3D)             (None, 13, 100, 100, 32)  2624      \n",
      "                                                                 \n",
      " activation (Activation)     (None, 13, 100, 100, 32)  0         \n",
      "                                                                 \n",
      " batch_normalization (BatchN  (None, 13, 100, 100, 32)  128      \n",
      " ormalization)                                                   \n",
      "                                                                 \n",
      " max_pooling3d (MaxPooling3D  (None, 6, 50, 50, 32)    0         \n",
      " )                                                               \n",
      "                                                                 \n",
      " conv3d_1 (Conv3D)           (None, 6, 50, 50, 64)     16448     \n",
      "                                                                 \n",
      " activation_1 (Activation)   (None, 6, 50, 50, 64)     0         \n",
      "                                                                 \n",
      " batch_normalization_1 (Batc  (None, 6, 50, 50, 64)    256       \n",
      " hNormalization)                                                 \n",
      "                                                                 \n",
      " max_pooling3d_1 (MaxPooling  (None, 3, 25, 25, 64)    0         \n",
      " 3D)                                                             \n",
      "                                                                 \n",
      " conv3d_2 (Conv3D)           (None, 3, 25, 25, 128)    65664     \n",
      "                                                                 \n",
      " activation_2 (Activation)   (None, 3, 25, 25, 128)    0         \n",
      "                                                                 \n",
      " batch_normalization_2 (Batc  (None, 3, 25, 25, 128)   512       \n",
      " hNormalization)                                                 \n",
      "                                                                 \n",
      " max_pooling3d_2 (MaxPooling  (None, 1, 12, 12, 128)   0         \n",
      " 3D)                                                             \n",
      "                                                                 \n",
      " flatten (Flatten)           (None, 18432)             0         \n",
      "                                                                 \n",
      " dense (Dense)               (None, 128)               2359424   \n",
      "                                                                 \n",
      " batch_normalization_3 (Batc  (None, 128)              512       \n",
      " hNormalization)                                                 \n",
      "                                                                 \n",
      " dropout (Dropout)           (None, 128)               0         \n",
      "                                                                 \n",
      " dense_1 (Dense)             (None, 64)                8256      \n",
      "                                                                 \n",
      " batch_normalization_4 (Batc  (None, 64)               256       \n",
      " hNormalization)                                                 \n",
      "                                                                 \n",
      " dropout_1 (Dropout)         (None, 64)                0         \n",
      "                                                                 \n",
      " dense_2 (Dense)             (None, 5)                 325       \n",
      "                                                                 \n",
      "=================================================================\n",
      "Total params: 2,454,405\n",
      "Trainable params: 2,453,573\n",
      "Non-trainable params: 832\n",
      "_________________________________________________________________\n",
      "None\n"
     ]
    }
   ],
   "source": [
    "optimiser = 'sgd' #write your optimizer\n",
    "model.compile(optimizer=optimiser, loss='categorical_crossentropy', metrics=['categorical_accuracy'])\n",
    "print (model.summary())"
   ]
  },
  {
   "cell_type": "markdown",
   "metadata": {
    "id": "cR45PDNpBqpb"
   },
   "source": [
    "Let us create the `train_generator` and the `val_generator` which will be used in `.fit_generator`."
   ]
  },
  {
   "cell_type": "code",
   "execution_count": 6,
   "metadata": {
    "executionInfo": {
     "elapsed": 2,
     "status": "ok",
     "timestamp": 1714483973986,
     "user": {
      "displayName": "TSP Home",
      "userId": "06611171722658597897"
     },
     "user_tz": -330
    },
    "id": "2_GfJF2GBqpb"
   },
   "outputs": [],
   "source": [
    "train_generator = generator(train_path, train_doc, batch_size)\n",
    "val_generator = generator(val_path, val_doc, batch_size)"
   ]
  },
  {
   "cell_type": "code",
   "execution_count": 9,
   "metadata": {
    "colab": {
     "base_uri": "https://localhost:8080/"
    },
    "executionInfo": {
     "elapsed": 424,
     "status": "ok",
     "timestamp": 1714483976638,
     "user": {
      "displayName": "TSP Home",
      "userId": "06611171722658597897"
     },
     "user_tz": -330
    },
    "id": "92CTGIhZBqpb",
    "outputId": "f7f92779-a232-46e2-a203-b6e199aaf070"
   },
   "outputs": [
    {
     "name": "stdout",
     "output_type": "stream",
     "text": [
      "WARNING:tensorflow:`period` argument is deprecated. Please use `save_freq` to specify the frequency in number of batches seen.\n"
     ]
    }
   ],
   "source": [
    "model_name = 'model_init' + '_' + str(curr_dt_time).replace(' ','').replace(':','_') + '/'\n",
    "\n",
    "if not os.path.exists(model_name):\n",
    "    os.mkdir(model_name)\n",
    "\n",
    "filepath = model_name + 'model-{epoch:05d}-{loss:.5f}-{categorical_accuracy:.5f}-{val_loss:.5f}-{val_categorical_accuracy:.5f}.h5'\n",
    "\n",
    "checkpoint = ModelCheckpoint(filepath, monitor='val_loss', verbose=1, save_best_only=False, save_weights_only=False, mode='auto', period=1)\n",
    "\n",
    "LR = ReduceLROnPlateau(monitor='val_loss', factor=0.2, verbose=1, patience=4)# write the REducelronplateau code here\n",
    "callbacks_list = [checkpoint, LR]"
   ]
  },
  {
   "cell_type": "markdown",
   "metadata": {
    "id": "29TM8IxVBqpb"
   },
   "source": [
    "The `steps_per_epoch` and `validation_steps` are used by `fit_generator` to decide the number of next() calls it need to make."
   ]
  },
  {
   "cell_type": "code",
   "execution_count": 12,
   "metadata": {
    "colab": {
     "base_uri": "https://localhost:8080/"
    },
    "executionInfo": {
     "elapsed": 1246,
     "status": "ok",
     "timestamp": 1714483981035,
     "user": {
      "displayName": "TSP Home",
      "userId": "06611171722658597897"
     },
     "user_tz": -330
    },
    "id": "XN3x-OtlBqpc",
    "outputId": "e6dfb015-0070-46df-dc16-bda8e46a7d79"
   },
   "outputs": [
    {
     "name": "stdout",
     "output_type": "stream",
     "text": [
      "4\n",
      "21\n"
     ]
    }
   ],
   "source": [
    "if (num_train_sequences%batch_size) == 0:\n",
    "    steps_per_epoch = int(num_train_sequences/batch_size)\n",
    "else:\n",
    "    steps_per_epoch = (num_train_sequences//batch_size) + 1\n",
    "\n",
    "if (num_val_sequences%batch_size) == 0:\n",
    "    validation_steps = int(num_val_sequences/batch_size)\n",
    "else:\n",
    "    validation_steps = (num_val_sequences//batch_size) + 1\n",
    "\n",
    "print(validation_steps)\n",
    "print(steps_per_epoch)"
   ]
  },
  {
   "cell_type": "markdown",
   "metadata": {
    "id": "PcZ6LByqBqpc"
   },
   "source": [
    "Let us now fit the model. This will start training the model and with the help of the checkpoints, you'll be able to save the model at the end of each epoch."
   ]
  },
  {
   "cell_type": "code",
   "execution_count": 35,
   "metadata": {
    "executionInfo": {
     "elapsed": 3,
     "status": "ok",
     "timestamp": 1714483984091,
     "user": {
      "displayName": "TSP Home",
      "userId": "06611171722658597897"
     },
     "user_tz": -330
    },
    "id": "u_fqzKGpLQoB"
   },
   "outputs": [],
   "source": [
    "import matplotlib.pyplot as plt\n",
    "def plot_accur_graph(history,num_epochs1):\n",
    "  plt.figure(figsize = (10,10))\n",
    "\n",
    "  acc = history.history['categorical_accuracy']\n",
    "  val_acc = history.history['val_categorical_accuracy']\n",
    "\n",
    "  loss = history.history['loss']\n",
    "  val_loss = history.history['val_loss']\n",
    "\n",
    "  epochs_range = range(num_epochs1)\n",
    "\n",
    "  plt.figure(figsize=(8, 8))\n",
    "  plt.subplot(1, 2, 1)\n",
    "  plt.plot(epochs_range, acc, label='Training Accuracy')\n",
    "  plt.plot(epochs_range, val_acc, label='Validation Accuracy')\n",
    "  plt.legend(loc='lower right')\n",
    "  plt.title('Training and Validation Accuracy')\n",
    "\n",
    "  plt.subplot(1, 2, 2)\n",
    "  plt.plot(epochs_range, loss, label='Training Loss')\n",
    "  plt.plot(epochs_range, val_loss, label='Validation Loss')\n",
    "  plt.legend(loc='upper right')\n",
    "  plt.title('Training and Validation Loss')\n",
    "  plt.show()\n"
   ]
  },
  {
   "cell_type": "code",
   "execution_count": 12,
   "metadata": {
    "colab": {
     "base_uri": "https://localhost:8080/"
    },
    "id": "RMbE866hBqpc",
    "outputId": "bb3ef000-5dfd-4258-e6a0-442bf3cb234b"
   },
   "outputs": [
    {
     "name": "stderr",
     "output_type": "stream",
     "text": [
      "/tmp/ipykernel_209/2585147562.py:1: UserWarning: `Model.fit_generator` is deprecated and will be removed in a future version. Please use `Model.fit`, which supports generators.\n",
      "  history = model.fit_generator(train_generator, steps_per_epoch=steps_per_epoch, epochs=num_epochs, verbose=1,\n"
     ]
    },
    {
     "name": "stdout",
     "output_type": "stream",
     "text": [
      "Source path =  /datasets/Project_data/train ; batch size = 32\n",
      "Epoch 1/20\n"
     ]
    },
    {
     "name": "stderr",
     "output_type": "stream",
     "text": [
      "2024-04-30 14:34:48.354794: I tensorflow/stream_executor/cuda/cuda_dnn.cc:377] Loaded cuDNN version 8302\n"
     ]
    },
    {
     "name": "stdout",
     "output_type": "stream",
     "text": [
      "21/21 [==============================] - ETA: 0s - loss: 1.7358 - categorical_accuracy: 0.3661Source path =  /datasets/Project_data/val ; batch size = 32\n",
      "\n",
      "Epoch 00001: saving model to model_init_2024-04-3014_33_56.570157/model-00001-1.73582-0.36607-1.63369-0.21875.h5\n",
      "21/21 [==============================] - 128s 6s/step - loss: 1.7358 - categorical_accuracy: 0.3661 - val_loss: 1.6337 - val_categorical_accuracy: 0.2188 - lr: 0.0100\n",
      "Epoch 2/20\n",
      "21/21 [==============================] - ETA: 0s - loss: 1.3211 - categorical_accuracy: 0.5149\n",
      "Epoch 00002: saving model to model_init_2024-04-3014_33_56.570157/model-00002-1.32110-0.51488-1.86923-0.24219.h5\n",
      "21/21 [==============================] - 100s 5s/step - loss: 1.3211 - categorical_accuracy: 0.5149 - val_loss: 1.8692 - val_categorical_accuracy: 0.2422 - lr: 0.0100\n",
      "Epoch 3/20\n",
      "21/21 [==============================] - ETA: 0s - loss: 1.1000 - categorical_accuracy: 0.5923\n",
      "Epoch 00003: saving model to model_init_2024-04-3014_33_56.570157/model-00003-1.10002-0.59226-2.71318-0.23438.h5\n",
      "21/21 [==============================] - 71s 4s/step - loss: 1.1000 - categorical_accuracy: 0.5923 - val_loss: 2.7132 - val_categorical_accuracy: 0.2344 - lr: 0.0100\n",
      "Epoch 4/20\n",
      "21/21 [==============================] - ETA: 0s - loss: 0.9255 - categorical_accuracy: 0.6324\n",
      "Epoch 00004: saving model to model_init_2024-04-3014_33_56.570157/model-00004-0.92549-0.63244-4.10042-0.14844.h5\n",
      "21/21 [==============================] - 69s 3s/step - loss: 0.9255 - categorical_accuracy: 0.6324 - val_loss: 4.1004 - val_categorical_accuracy: 0.1484 - lr: 0.0100\n",
      "Epoch 5/20\n",
      "21/21 [==============================] - ETA: 0s - loss: 0.7153 - categorical_accuracy: 0.7128\n",
      "Epoch 00005: saving model to model_init_2024-04-3014_33_56.570157/model-00005-0.71534-0.71280-4.59835-0.15625.h5\n",
      "\n",
      "Epoch 00005: ReduceLROnPlateau reducing learning rate to 0.0019999999552965165.\n",
      "21/21 [==============================] - 69s 3s/step - loss: 0.7153 - categorical_accuracy: 0.7128 - val_loss: 4.5984 - val_categorical_accuracy: 0.1562 - lr: 0.0100\n",
      "Epoch 6/20\n",
      "21/21 [==============================] - ETA: 0s - loss: 0.5935 - categorical_accuracy: 0.7857\n",
      "Epoch 00006: saving model to model_init_2024-04-3014_33_56.570157/model-00006-0.59353-0.78571-5.39745-0.14844.h5\n",
      "21/21 [==============================] - 70s 3s/step - loss: 0.5935 - categorical_accuracy: 0.7857 - val_loss: 5.3974 - val_categorical_accuracy: 0.1484 - lr: 0.0020\n",
      "Epoch 7/20\n",
      "21/21 [==============================] - ETA: 0s - loss: 0.5607 - categorical_accuracy: 0.7991\n",
      "Epoch 00007: saving model to model_init_2024-04-3014_33_56.570157/model-00007-0.56074-0.79911-5.47019-0.13281.h5\n",
      "21/21 [==============================] - 72s 4s/step - loss: 0.5607 - categorical_accuracy: 0.7991 - val_loss: 5.4702 - val_categorical_accuracy: 0.1328 - lr: 0.0020\n",
      "Epoch 8/20\n",
      "21/21 [==============================] - ETA: 0s - loss: 0.5508 - categorical_accuracy: 0.7976\n",
      "Epoch 00008: saving model to model_init_2024-04-3014_33_56.570157/model-00008-0.55077-0.79762-4.93317-0.18750.h5\n",
      "21/21 [==============================] - 74s 4s/step - loss: 0.5508 - categorical_accuracy: 0.7976 - val_loss: 4.9332 - val_categorical_accuracy: 0.1875 - lr: 0.0020\n",
      "Epoch 9/20\n",
      "21/21 [==============================] - ETA: 0s - loss: 0.5511 - categorical_accuracy: 0.7917\n",
      "Epoch 00009: saving model to model_init_2024-04-3014_33_56.570157/model-00009-0.55108-0.79167-4.98784-0.17188.h5\n",
      "\n",
      "Epoch 00009: ReduceLROnPlateau reducing learning rate to 0.0003999999724328518.\n",
      "21/21 [==============================] - 74s 4s/step - loss: 0.5511 - categorical_accuracy: 0.7917 - val_loss: 4.9878 - val_categorical_accuracy: 0.1719 - lr: 0.0020\n",
      "Epoch 10/20\n",
      "21/21 [==============================] - ETA: 0s - loss: 0.4934 - categorical_accuracy: 0.8185\n",
      "Epoch 00010: saving model to model_init_2024-04-3014_33_56.570157/model-00010-0.49338-0.81845-4.04763-0.27344.h5\n",
      "21/21 [==============================] - 73s 4s/step - loss: 0.4934 - categorical_accuracy: 0.8185 - val_loss: 4.0476 - val_categorical_accuracy: 0.2734 - lr: 4.0000e-04\n",
      "Epoch 11/20\n",
      "21/21 [==============================] - ETA: 0s - loss: 0.4838 - categorical_accuracy: 0.8259\n",
      "Epoch 00011: saving model to model_init_2024-04-3014_33_56.570157/model-00011-0.48379-0.82589-4.08087-0.24219.h5\n",
      "21/21 [==============================] - 73s 4s/step - loss: 0.4838 - categorical_accuracy: 0.8259 - val_loss: 4.0809 - val_categorical_accuracy: 0.2422 - lr: 4.0000e-04\n",
      "Epoch 12/20\n",
      "21/21 [==============================] - ETA: 0s - loss: 0.4698 - categorical_accuracy: 0.8348\n",
      "Epoch 00012: saving model to model_init_2024-04-3014_33_56.570157/model-00012-0.46979-0.83482-3.88036-0.22656.h5\n",
      "21/21 [==============================] - 73s 4s/step - loss: 0.4698 - categorical_accuracy: 0.8348 - val_loss: 3.8804 - val_categorical_accuracy: 0.2266 - lr: 4.0000e-04\n",
      "Epoch 13/20\n",
      "21/21 [==============================] - ETA: 0s - loss: 0.4623 - categorical_accuracy: 0.8467\n",
      "Epoch 00013: saving model to model_init_2024-04-3014_33_56.570157/model-00013-0.46232-0.84673-3.67765-0.21875.h5\n",
      "\n",
      "Epoch 00013: ReduceLROnPlateau reducing learning rate to 7.999999215826393e-05.\n",
      "21/21 [==============================] - 75s 4s/step - loss: 0.4623 - categorical_accuracy: 0.8467 - val_loss: 3.6777 - val_categorical_accuracy: 0.2188 - lr: 4.0000e-04\n",
      "Epoch 14/20\n",
      "21/21 [==============================] - ETA: 0s - loss: 0.4851 - categorical_accuracy: 0.8155\n",
      "Epoch 00014: saving model to model_init_2024-04-3014_33_56.570157/model-00014-0.48513-0.81548-3.25569-0.23438.h5\n",
      "21/21 [==============================] - 73s 4s/step - loss: 0.4851 - categorical_accuracy: 0.8155 - val_loss: 3.2557 - val_categorical_accuracy: 0.2344 - lr: 8.0000e-05\n",
      "Epoch 15/20\n",
      "21/21 [==============================] - ETA: 0s - loss: 0.4788 - categorical_accuracy: 0.8229\n",
      "Epoch 00015: saving model to model_init_2024-04-3014_33_56.570157/model-00015-0.47879-0.82292-3.32976-0.24219.h5\n",
      "21/21 [==============================] - 76s 4s/step - loss: 0.4788 - categorical_accuracy: 0.8229 - val_loss: 3.3298 - val_categorical_accuracy: 0.2422 - lr: 8.0000e-05\n",
      "Epoch 16/20\n",
      "21/21 [==============================] - ETA: 0s - loss: 0.4747 - categorical_accuracy: 0.8393\n",
      "Epoch 00016: saving model to model_init_2024-04-3014_33_56.570157/model-00016-0.47469-0.83929-2.71466-0.26562.h5\n",
      "21/21 [==============================] - 73s 4s/step - loss: 0.4747 - categorical_accuracy: 0.8393 - val_loss: 2.7147 - val_categorical_accuracy: 0.2656 - lr: 8.0000e-05\n",
      "Epoch 17/20\n",
      "21/21 [==============================] - ETA: 0s - loss: 0.4711 - categorical_accuracy: 0.8229\n",
      "Epoch 00017: saving model to model_init_2024-04-3014_33_56.570157/model-00017-0.47114-0.82292-2.26473-0.29688.h5\n",
      "\n",
      "Epoch 00017: ReduceLROnPlateau reducing learning rate to 1.599999814061448e-05.\n",
      "21/21 [==============================] - 72s 4s/step - loss: 0.4711 - categorical_accuracy: 0.8229 - val_loss: 2.2647 - val_categorical_accuracy: 0.2969 - lr: 8.0000e-05\n",
      "Epoch 18/20\n",
      "21/21 [==============================] - ETA: 0s - loss: 0.4598 - categorical_accuracy: 0.8348\n",
      "Epoch 00018: saving model to model_init_2024-04-3014_33_56.570157/model-00018-0.45983-0.83482-2.03539-0.33594.h5\n",
      "21/21 [==============================] - 74s 4s/step - loss: 0.4598 - categorical_accuracy: 0.8348 - val_loss: 2.0354 - val_categorical_accuracy: 0.3359 - lr: 1.6000e-05\n",
      "Epoch 19/20\n",
      "21/21 [==============================] - ETA: 0s - loss: 0.4826 - categorical_accuracy: 0.8304\n",
      "Epoch 00019: saving model to model_init_2024-04-3014_33_56.570157/model-00019-0.48261-0.83036-1.82741-0.31250.h5\n",
      "21/21 [==============================] - 71s 4s/step - loss: 0.4826 - categorical_accuracy: 0.8304 - val_loss: 1.8274 - val_categorical_accuracy: 0.3125 - lr: 1.6000e-05\n",
      "Epoch 20/20\n",
      "21/21 [==============================] - ETA: 0s - loss: 0.4813 - categorical_accuracy: 0.8155\n",
      "Epoch 00020: saving model to model_init_2024-04-3014_33_56.570157/model-00020-0.48134-0.81548-1.60650-0.33594.h5\n",
      "21/21 [==============================] - 73s 4s/step - loss: 0.4813 - categorical_accuracy: 0.8155 - val_loss: 1.6065 - val_categorical_accuracy: 0.3359 - lr: 1.6000e-05\n"
     ]
    }
   ],
   "source": [
    "history = model.fit_generator(train_generator, steps_per_epoch=steps_per_epoch, epochs=num_epochs, verbose=1,\n",
    "                    callbacks=callbacks_list, validation_data=val_generator,\n",
    "                    validation_steps=validation_steps, class_weight=None, workers=1, initial_epoch=0)"
   ]
  },
  {
   "cell_type": "code",
   "execution_count": 20,
   "metadata": {
    "id": "NdnApdI_Nk8E"
   },
   "outputs": [
    {
     "data": {
      "text/plain": [
       "<Figure size 720x720 with 0 Axes>"
      ]
     },
     "metadata": {},
     "output_type": "display_data"
    },
    {
     "data": {
      "image/png": "[encoded data removed]",
      "text/plain": [
       "<Figure size 576x576 with 2 Axes>"
      ]
     },
     "metadata": {
      "needs_background": "light"
     },
     "output_type": "display_data"
    }
   ],
   "source": [
    "plot_accur_graph(history,num_epochs)"
   ]
  },
  {
   "cell_type": "markdown",
   "metadata": {},
   "source": [
    "# Model 2 \n",
    "will increase the batch size,number of epochs and will change the optimizer sgd to adam with learning rate"
   ]
  },
  {
   "cell_type": "code",
   "execution_count": 9,
   "metadata": {},
   "outputs": [
    {
     "name": "stderr",
     "output_type": "stream",
     "text": [
      "2024-05-01 06:29:30.632863: W tensorflow/core/common_runtime/gpu/gpu_bfc_allocator.cc:39] Overriding allow_growth setting because the TF_FORCE_GPU_ALLOW_GROWTH environment variable is set. Original config value was 0.\n",
      "2024-05-01 06:29:30.632922: I tensorflow/core/common_runtime/gpu/gpu_device.cc:1525] Created device /job:localhost/replica:0/task:0/device:GPU:0 with 14800 MB memory:  -> device: 0, name: Quadro RTX 5000, pci bus id: 0000:1e:00.0, compute capability: 7.5\n"
     ]
    }
   ],
   "source": [
    "model = Sequential()\n",
    "model.add(Conv3D(32, (3, 3, 3), padding='same',\n",
    "         input_shape=(13,100,100,3)))\n",
    "model.add(Activation('relu'))\n",
    "model.add(BatchNormalization())\n",
    "model.add(MaxPooling3D(pool_size=(2, 2, 2)))\n",
    "\n",
    "model.add(Conv3D(64, (2, 2, 2), padding='same'))\n",
    "model.add(Activation('relu'))\n",
    "model.add(BatchNormalization())\n",
    "model.add(MaxPooling3D(pool_size=(2, 2, 2)))\n",
    "\n",
    "model.add(Conv3D(128, (2, 2, 2), padding='same'))\n",
    "model.add(Activation('relu'))\n",
    "model.add(BatchNormalization())\n",
    "model.add(MaxPooling3D(pool_size=(2, 2, 2)))\n",
    "\n",
    "model.add(Flatten())\n",
    "model.add(Dense(128,activation='relu'))\n",
    "model.add(BatchNormalization())\n",
    "model.add(Dropout(0.5))\n",
    "\n",
    "model.add(Dense(64,activation='relu'))\n",
    "model.add(BatchNormalization())\n",
    "model.add(Dropout(0.25))\n",
    "\n",
    "model.add(Dense(5,activation='softmax'))"
   ]
  },
  {
   "cell_type": "code",
   "execution_count": 10,
   "metadata": {},
   "outputs": [
    {
     "name": "stdout",
     "output_type": "stream",
     "text": [
      "WARNING:tensorflow:`period` argument is deprecated. Please use `save_freq` to specify the frequency in number of batches seen.\n",
      "Model: \"sequential\"\n",
      "_________________________________________________________________\n",
      " Layer (type)                Output Shape              Param #   \n",
      "=================================================================\n",
      " conv3d (Conv3D)             (None, 13, 100, 100, 32)  2624      \n",
      "                                                                 \n",
      " activation (Activation)     (None, 13, 100, 100, 32)  0         \n",
      "                                                                 \n",
      " batch_normalization (BatchN  (None, 13, 100, 100, 32)  128      \n",
      " ormalization)                                                   \n",
      "                                                                 \n",
      " max_pooling3d (MaxPooling3D  (None, 6, 50, 50, 32)    0         \n",
      " )                                                               \n",
      "                                                                 \n",
      " conv3d_1 (Conv3D)           (None, 6, 50, 50, 64)     16448     \n",
      "                                                                 \n",
      " activation_1 (Activation)   (None, 6, 50, 50, 64)     0         \n",
      "                                                                 \n",
      " batch_normalization_1 (Batc  (None, 6, 50, 50, 64)    256       \n",
      " hNormalization)                                                 \n",
      "                                                                 \n",
      " max_pooling3d_1 (MaxPooling  (None, 3, 25, 25, 64)    0         \n",
      " 3D)                                                             \n",
      "                                                                 \n",
      " conv3d_2 (Conv3D)           (None, 3, 25, 25, 128)    65664     \n",
      "                                                                 \n",
      " activation_2 (Activation)   (None, 3, 25, 25, 128)    0         \n",
      "                                                                 \n",
      " batch_normalization_2 (Batc  (None, 3, 25, 25, 128)   512       \n",
      " hNormalization)                                                 \n",
      "                                                                 \n",
      " max_pooling3d_2 (MaxPooling  (None, 1, 12, 12, 128)   0         \n",
      " 3D)                                                             \n",
      "                                                                 \n",
      " flatten (Flatten)           (None, 18432)             0         \n",
      "                                                                 \n",
      " dense (Dense)               (None, 128)               2359424   \n",
      "                                                                 \n",
      " batch_normalization_3 (Batc  (None, 128)              512       \n",
      " hNormalization)                                                 \n",
      "                                                                 \n",
      " dropout (Dropout)           (None, 128)               0         \n",
      "                                                                 \n",
      " dense_1 (Dense)             (None, 64)                8256      \n",
      "                                                                 \n",
      " batch_normalization_4 (Batc  (None, 64)               256       \n",
      " hNormalization)                                                 \n",
      "                                                                 \n",
      " dropout_1 (Dropout)         (None, 64)                0         \n",
      "                                                                 \n",
      " dense_2 (Dense)             (None, 5)                 325       \n",
      "                                                                 \n",
      "=================================================================\n",
      "Total params: 2,454,405\n",
      "Trainable params: 2,453,573\n",
      "Non-trainable params: 832\n",
      "_________________________________________________________________\n",
      "None\n"
     ]
    }
   ],
   "source": [
    "import tensorflow as tf\n",
    "batch_size1 = 64\n",
    "train_generator = generator(train_path, train_doc, batch_size1)\n",
    "val_generator = generator(val_path, val_doc, batch_size1)\n",
    "\n",
    "model_name = 'model2_init' + '_' + str(curr_dt_time).replace(' ','').replace(':','_') + '/'\n",
    "    \n",
    "if not os.path.exists(model_name):\n",
    "    os.mkdir(model_name)\n",
    "        \n",
    "filepath = model_name + 'model-{epoch:05d}-{loss:.5f}-{categorical_accuracy:.5f}-{val_loss:.5f}-{val_categorical_accuracy:.5f}.h5'\n",
    "checkpoint = ModelCheckpoint(filepath, monitor='val_loss', verbose=1, save_best_only=False, save_weights_only=False, mode='auto', period=1)\n",
    "LR = ReduceLROnPlateau(monitor='val_loss', factor=0.2, verbose=1, patience=4)# write the REducelronplateau code here\n",
    "callbacks_list = [checkpoint, LR]\n",
    "\n",
    "\n",
    "model.compile(optimizer=tf.keras.optimizers.Adam(learning_rate=0.00001), loss='categorical_crossentropy', metrics=['categorical_accuracy'])\n",
    "print (model.summary())"
   ]
  },
  {
   "cell_type": "code",
   "execution_count": 11,
   "metadata": {},
   "outputs": [
    {
     "name": "stderr",
     "output_type": "stream",
     "text": [
      "/tmp/ipykernel_645/2738974114.py:2: UserWarning: `Model.fit_generator` is deprecated and will be removed in a future version. Please use `Model.fit`, which supports generators.\n",
      "  history2 = model.fit_generator(train_generator, steps_per_epoch=steps_per_epoch, epochs=m2_num_epochs, verbose=1,\n"
     ]
    },
    {
     "name": "stdout",
     "output_type": "stream",
     "text": [
      "Source path =  /datasets/Project_data/train ; batch size = 64\n",
      "Epoch 1/30\n"
     ]
    },
    {
     "name": "stderr",
     "output_type": "stream",
     "text": [
      "2024-05-01 06:29:50.465858: I tensorflow/stream_executor/cuda/cuda_dnn.cc:377] Loaded cuDNN version 8302\n"
     ]
    },
    {
     "name": "stdout",
     "output_type": "stream",
     "text": [
      "21/21 [==============================] - ETA: 0s - loss: 2.3558 - categorical_accuracy: 0.2262Source path =  /datasets/Project_data/val ; batch size = 64\n",
      "\n",
      "Epoch 00001: saving model to model2_init_2024-05-0106_29_06.953356/model-00001-2.35583-0.22619-1.64281-0.17969.h5\n",
      "21/21 [==============================] - 139s 7s/step - loss: 2.3558 - categorical_accuracy: 0.2262 - val_loss: 1.6428 - val_categorical_accuracy: 0.1797 - lr: 1.0000e-05\n",
      "Epoch 2/30\n",
      "21/21 [==============================] - ETA: 0s - loss: 1.8925 - categorical_accuracy: 0.3438\n",
      "Epoch 00002: saving model to model2_init_2024-05-0106_29_06.953356/model-00002-1.89254-0.34375-1.71713-0.22266.h5\n",
      "21/21 [==============================] - 137s 7s/step - loss: 1.8925 - categorical_accuracy: 0.3438 - val_loss: 1.7171 - val_categorical_accuracy: 0.2227 - lr: 1.0000e-05\n",
      "Epoch 3/30\n",
      "21/21 [==============================] - ETA: 0s - loss: 1.6491 - categorical_accuracy: 0.3869\n",
      "Epoch 00003: saving model to model2_init_2024-05-0106_29_06.953356/model-00003-1.64909-0.38690-1.85946-0.25781.h5\n",
      "21/21 [==============================] - 137s 7s/step - loss: 1.6491 - categorical_accuracy: 0.3869 - val_loss: 1.8595 - val_categorical_accuracy: 0.2578 - lr: 1.0000e-05\n",
      "Epoch 4/30\n",
      "21/21 [==============================] - ETA: 0s - loss: 1.4176 - categorical_accuracy: 0.4554\n",
      "Epoch 00004: saving model to model2_init_2024-05-0106_29_06.953356/model-00004-1.41758-0.45536-2.21322-0.22656.h5\n",
      "21/21 [==============================] - 140s 7s/step - loss: 1.4176 - categorical_accuracy: 0.4554 - val_loss: 2.2132 - val_categorical_accuracy: 0.2266 - lr: 1.0000e-05\n",
      "Epoch 5/30\n",
      "21/21 [==============================] - ETA: 0s - loss: 1.2857 - categorical_accuracy: 0.5067\n",
      "Epoch 00005: saving model to model2_init_2024-05-0106_29_06.953356/model-00005-1.28574-0.50670-2.61093-0.21094.h5\n",
      "\n",
      "Epoch 00005: ReduceLROnPlateau reducing learning rate to 1.9999999494757505e-06.\n",
      "21/21 [==============================] - 136s 7s/step - loss: 1.2857 - categorical_accuracy: 0.5067 - val_loss: 2.6109 - val_categorical_accuracy: 0.2109 - lr: 1.0000e-05\n",
      "Epoch 6/30\n",
      "21/21 [==============================] - ETA: 0s - loss: 1.2212 - categorical_accuracy: 0.5342\n",
      "Epoch 00006: saving model to model2_init_2024-05-0106_29_06.953356/model-00006-1.22123-0.53423-3.09163-0.17969.h5\n",
      "21/21 [==============================] - 137s 7s/step - loss: 1.2212 - categorical_accuracy: 0.5342 - val_loss: 3.0916 - val_categorical_accuracy: 0.1797 - lr: 2.0000e-06\n",
      "Epoch 7/30\n",
      "21/21 [==============================] - ETA: 0s - loss: 1.2135 - categorical_accuracy: 0.5327\n",
      "Epoch 00007: saving model to model2_init_2024-05-0106_29_06.953356/model-00007-1.21353-0.53274-3.36938-0.21094.h5\n",
      "21/21 [==============================] - 138s 7s/step - loss: 1.2135 - categorical_accuracy: 0.5327 - val_loss: 3.3694 - val_categorical_accuracy: 0.2109 - lr: 2.0000e-06\n",
      "Epoch 8/30\n",
      "21/21 [==============================] - ETA: 0s - loss: 1.1900 - categorical_accuracy: 0.5565\n",
      "Epoch 00008: saving model to model2_init_2024-05-0106_29_06.953356/model-00008-1.19000-0.55655-3.51402-0.21484.h5\n",
      "21/21 [==============================] - 139s 7s/step - loss: 1.1900 - categorical_accuracy: 0.5565 - val_loss: 3.5140 - val_categorical_accuracy: 0.2148 - lr: 2.0000e-06\n",
      "Epoch 9/30\n",
      "21/21 [==============================] - ETA: 0s - loss: 1.1412 - categorical_accuracy: 0.5595\n",
      "Epoch 00009: saving model to model2_init_2024-05-0106_29_06.953356/model-00009-1.14123-0.55952-3.92585-0.19531.h5\n",
      "\n",
      "Epoch 00009: ReduceLROnPlateau reducing learning rate to 3.999999989900971e-07.\n",
      "21/21 [==============================] - 138s 7s/step - loss: 1.1412 - categorical_accuracy: 0.5595 - val_loss: 3.9258 - val_categorical_accuracy: 0.1953 - lr: 2.0000e-06\n",
      "Epoch 10/30\n",
      "21/21 [==============================] - ETA: 0s - loss: 1.1867 - categorical_accuracy: 0.5528\n",
      "Epoch 00010: saving model to model2_init_2024-05-0106_29_06.953356/model-00010-1.18673-0.55283-3.99386-0.19922.h5\n",
      "21/21 [==============================] - 137s 7s/step - loss: 1.1867 - categorical_accuracy: 0.5528 - val_loss: 3.9939 - val_categorical_accuracy: 0.1992 - lr: 4.0000e-07\n",
      "Epoch 11/30\n",
      "21/21 [==============================] - ETA: 0s - loss: 1.1216 - categorical_accuracy: 0.5677\n",
      "Epoch 00011: saving model to model2_init_2024-05-0106_29_06.953356/model-00011-1.12163-0.56771-4.09030-0.21094.h5\n",
      "21/21 [==============================] - 140s 7s/step - loss: 1.1216 - categorical_accuracy: 0.5677 - val_loss: 4.0903 - val_categorical_accuracy: 0.2109 - lr: 4.0000e-07\n",
      "Epoch 12/30\n",
      "21/21 [==============================] - ETA: 0s - loss: 1.1158 - categorical_accuracy: 0.5833\n",
      "Epoch 00012: saving model to model2_init_2024-05-0106_29_06.953356/model-00012-1.11582-0.58333-3.91032-0.23828.h5\n",
      "21/21 [==============================] - 139s 7s/step - loss: 1.1158 - categorical_accuracy: 0.5833 - val_loss: 3.9103 - val_categorical_accuracy: 0.2383 - lr: 4.0000e-07\n",
      "Epoch 13/30\n",
      "21/21 [==============================] - ETA: 0s - loss: 1.0761 - categorical_accuracy: 0.5774\n",
      "Epoch 00013: saving model to model2_init_2024-05-0106_29_06.953356/model-00013-1.07605-0.57738-4.09668-0.19531.h5\n",
      "\n",
      "Epoch 00013: ReduceLROnPlateau reducing learning rate to 8.00000009348878e-08.\n",
      "21/21 [==============================] - 137s 7s/step - loss: 1.0761 - categorical_accuracy: 0.5774 - val_loss: 4.0967 - val_categorical_accuracy: 0.1953 - lr: 4.0000e-07\n",
      "Epoch 14/30\n",
      "21/21 [==============================] - ETA: 0s - loss: 1.1277 - categorical_accuracy: 0.5796\n",
      "Epoch 00014: saving model to model2_init_2024-05-0106_29_06.953356/model-00014-1.12766-0.57961-4.13395-0.20312.h5\n",
      "21/21 [==============================] - 174s 9s/step - loss: 1.1277 - categorical_accuracy: 0.5796 - val_loss: 4.1340 - val_categorical_accuracy: 0.2031 - lr: 8.0000e-08\n",
      "Epoch 15/30\n",
      "21/21 [==============================] - ETA: 0s - loss: 1.1419 - categorical_accuracy: 0.5469\n",
      "Epoch 00015: saving model to model2_init_2024-05-0106_29_06.953356/model-00015-1.14191-0.54688-3.73546-0.22656.h5\n",
      "21/21 [==============================] - 140s 7s/step - loss: 1.1419 - categorical_accuracy: 0.5469 - val_loss: 3.7355 - val_categorical_accuracy: 0.2266 - lr: 8.0000e-08\n",
      "Epoch 16/30\n",
      "21/21 [==============================] - ETA: 0s - loss: 1.1417 - categorical_accuracy: 0.5632\n",
      "Epoch 00016: saving model to model2_init_2024-05-0106_29_06.953356/model-00016-1.14168-0.56324-3.78844-0.17969.h5\n",
      "21/21 [==============================] - 138s 7s/step - loss: 1.1417 - categorical_accuracy: 0.5632 - val_loss: 3.7884 - val_categorical_accuracy: 0.1797 - lr: 8.0000e-08\n",
      "Epoch 17/30\n",
      "21/21 [==============================] - ETA: 0s - loss: 1.1523 - categorical_accuracy: 0.5603\n",
      "Epoch 00017: saving model to model2_init_2024-05-0106_29_06.953356/model-00017-1.15233-0.56027-3.32288-0.22656.h5\n",
      "\n",
      "Epoch 00017: ReduceLROnPlateau reducing learning rate to 1.5999999902760466e-08.\n",
      "21/21 [==============================] - 137s 7s/step - loss: 1.1523 - categorical_accuracy: 0.5603 - val_loss: 3.3229 - val_categorical_accuracy: 0.2266 - lr: 8.0000e-08\n",
      "Epoch 18/30\n",
      "21/21 [==============================] - ETA: 0s - loss: 1.1177 - categorical_accuracy: 0.5610\n",
      "Epoch 00019: saving model to model2_init_2024-05-0106_29_06.953356/model-00019-1.11774-0.56101-3.22300-0.20312.h5\n",
      "21/21 [==============================] - 140s 7s/step - loss: 1.1177 - categorical_accuracy: 0.5610 - val_loss: 3.2230 - val_categorical_accuracy: 0.2031 - lr: 1.6000e-08\n",
      "Epoch 20/30\n",
      "21/21 [==============================] - ETA: 0s - loss: 1.1253 - categorical_accuracy: 0.5573\n",
      "Epoch 00020: saving model to model2_init_2024-05-0106_29_06.953356/model-00020-1.12529-0.55729-2.96536-0.22266.h5\n",
      "21/21 [==============================] - 136s 7s/step - loss: 1.1253 - categorical_accuracy: 0.5573 - val_loss: 2.9654 - val_categorical_accuracy: 0.2227 - lr: 1.6000e-08\n",
      "Epoch 21/30\n",
      "21/21 [==============================] - ETA: 0s - loss: 1.1298 - categorical_accuracy: 0.5707\n",
      "Epoch 00021: saving model to model2_init_2024-05-0106_29_06.953356/model-00021-1.12982-0.57068-2.63183-0.25000.h5\n",
      "\n",
      "Epoch 00021: ReduceLROnPlateau reducing learning rate to 3.1999999094978194e-09.\n",
      "21/21 [==============================] - 140s 7s/step - loss: 1.1298 - categorical_accuracy: 0.5707 - val_loss: 2.6318 - val_categorical_accuracy: 0.2500 - lr: 1.6000e-08\n",
      "Epoch 22/30\n",
      "21/21 [==============================] - ETA: 0s - loss: 1.1222 - categorical_accuracy: 0.5655\n",
      "Epoch 00022: saving model to model2_init_2024-05-0106_29_06.953356/model-00022-1.12222-0.56548-2.60185-0.25391.h5\n",
      "21/21 [==============================] - 138s 7s/step - loss: 1.1222 - categorical_accuracy: 0.5655 - val_loss: 2.6019 - val_categorical_accuracy: 0.2539 - lr: 3.2000e-09\n",
      "Epoch 23/30\n",
      "21/21 [==============================] - ETA: 0s - loss: 1.0996 - categorical_accuracy: 0.5804\n",
      "Epoch 00023: saving model to model2_init_2024-05-0106_29_06.953356/model-00023-1.09958-0.58036-2.38516-0.25000.h5\n",
      "21/21 [==============================] - 140s 7s/step - loss: 1.0996 - categorical_accuracy: 0.5804 - val_loss: 2.3852 - val_categorical_accuracy: 0.2500 - lr: 3.2000e-09\n",
      "Epoch 24/30\n",
      "21/21 [==============================] - ETA: 0s - loss: 1.1782 - categorical_accuracy: 0.5469\n",
      "Epoch 00024: saving model to model2_init_2024-05-0106_29_06.953356/model-00024-1.17817-0.54688-2.40956-0.19531.h5\n",
      "21/21 [==============================] - 141s 7s/step - loss: 1.1782 - categorical_accuracy: 0.5469 - val_loss: 2.4096 - val_categorical_accuracy: 0.1953 - lr: 3.2000e-09\n",
      "Epoch 25/30\n",
      "21/21 [==============================] - ETA: 0s - loss: 1.0714 - categorical_accuracy: 0.5826\n",
      "Epoch 00025: saving model to model2_init_2024-05-0106_29_06.953356/model-00025-1.07144-0.58259-2.14721-0.26562.h5\n",
      "\n",
      "Epoch 00025: ReduceLROnPlateau reducing learning rate to 6.399999641359955e-10.\n",
      "21/21 [==============================] - 139s 7s/step - loss: 1.0714 - categorical_accuracy: 0.5826 - val_loss: 2.1472 - val_categorical_accuracy: 0.2656 - lr: 3.2000e-09\n",
      "Epoch 26/30\n",
      "21/21 [==============================] - ETA: 0s - loss: 1.0859 - categorical_accuracy: 0.5923\n",
      "Epoch 00026: saving model to model2_init_2024-05-0106_29_06.953356/model-00026-1.08586-0.59226-1.98020-0.23828.h5\n",
      "21/21 [==============================] - 141s 7s/step - loss: 1.0859 - categorical_accuracy: 0.5923 - val_loss: 1.9802 - val_categorical_accuracy: 0.2383 - lr: 6.4000e-10\n",
      "Epoch 27/30\n",
      "21/21 [==============================] - ETA: 0s - loss: 1.1157 - categorical_accuracy: 0.5737\n",
      "Epoch 00027: saving model to model2_init_2024-05-0106_29_06.953356/model-00027-1.11571-0.57366-1.90448-0.28906.h5\n",
      "21/21 [==============================] - 139s 7s/step - loss: 1.1157 - categorical_accuracy: 0.5737 - val_loss: 1.9045 - val_categorical_accuracy: 0.2891 - lr: 6.4000e-10\n",
      "Epoch 28/30\n",
      "21/21 [==============================] - ETA: 0s - loss: 1.1243 - categorical_accuracy: 0.5595\n",
      "Epoch 00028: saving model to model2_init_2024-05-0106_29_06.953356/model-00028-1.12432-0.55952-1.77719-0.37500.h5\n",
      "21/21 [==============================] - 135s 7s/step - loss: 1.1243 - categorical_accuracy: 0.5595 - val_loss: 1.7772 - val_categorical_accuracy: 0.3750 - lr: 6.4000e-10\n",
      "Epoch 29/30\n",
      "21/21 [==============================] - ETA: 0s - loss: 1.1599 - categorical_accuracy: 0.5603\n",
      "Epoch 00029: saving model to model2_init_2024-05-0106_29_06.953356/model-00029-1.15990-0.56027-1.67187-0.36719.h5\n",
      "\n",
      "Epoch 00029: ReduceLROnPlateau reducing learning rate to 1.27999988386307e-10.\n",
      "21/21 [==============================] - 135s 7s/step - loss: 1.1599 - categorical_accuracy: 0.5603 - val_loss: 1.6719 - val_categorical_accuracy: 0.3672 - lr: 6.4000e-10\n",
      "Epoch 30/30\n",
      "21/21 [==============================] - ETA: 0s - loss: 1.1159 - categorical_accuracy: 0.5506\n",
      "Epoch 00030: saving model to model2_init_2024-05-0106_29_06.953356/model-00030-1.11586-0.55060-1.60247-0.34766.h5\n",
      "21/21 [==============================] - 135s 7s/step - loss: 1.1159 - categorical_accuracy: 0.5506 - val_loss: 1.6025 - val_categorical_accuracy: 0.3477 - lr: 1.2800e-10\n"
     ]
    }
   ],
   "source": [
    "m2_num_epochs=30\n",
    "history2 = model.fit_generator(train_generator, steps_per_epoch=steps_per_epoch, epochs=m2_num_epochs, verbose=1, \n",
    "                    callbacks=callbacks_list, validation_data=val_generator, \n",
    "                    validation_steps=validation_steps, class_weight=None, workers=1, initial_epoch=0)"
   ]
  },
  {
   "cell_type": "code",
   "execution_count": 12,
   "metadata": {},
   "outputs": [
    {
     "data": {
      "text/plain": [
       "<Figure size 720x720 with 0 Axes>"
      ]
     },
     "metadata": {},
     "output_type": "display_data"
    },
    {
     "data": {
      "image/png": "[encoded data removed]",
      "text/plain": [
       "<Figure size 576x576 with 2 Axes>"
      ]
     },
     "metadata": {
      "needs_background": "light"
     },
     "output_type": "display_data"
    }
   ],
   "source": [
    "plot_accur_graph(history2,m2_num_epochs)"
   ]
  },
  {
   "cell_type": "markdown",
   "metadata": {},
   "source": [
    "# Model 3\n",
    "with LSTM"
   ]
  },
  {
   "cell_type": "code",
   "execution_count": 14,
   "metadata": {},
   "outputs": [
    {
     "name": "stderr",
     "output_type": "stream",
     "text": [
      "2024-05-01 04:56:54.595979: W tensorflow/core/common_runtime/gpu/gpu_bfc_allocator.cc:39] Overriding allow_growth setting because the TF_FORCE_GPU_ALLOW_GROWTH environment variable is set. Original config value was 0.\n",
      "2024-05-01 04:56:54.596054: I tensorflow/core/common_runtime/gpu/gpu_device.cc:1525] Created device /job:localhost/replica:0/task:0/device:GPU:0 with 14800 MB memory:  -> device: 0, name: Quadro RTX 5000, pci bus id: 0000:1e:00.0, compute capability: 7.5\n"
     ]
    }
   ],
   "source": [
    "from keras.layers.recurrent import LSTM\n",
    "\n",
    "\n",
    "model3 = Sequential()\n",
    "model3.add(Conv3D(32, (3, 3, 3), padding='same',\n",
    "         input_shape=(13,100,100,3)))\n",
    "model3.add(Activation('relu'))\n",
    "model3.add(BatchNormalization())\n",
    "model3.add(MaxPooling3D(pool_size=(2, 2, 2)))\n",
    "\n",
    "model3.add(Conv3D(64, (2, 2, 2), padding='same'))\n",
    "model3.add(Activation('relu'))\n",
    "model3.add(BatchNormalization())\n",
    "model3.add(MaxPooling3D(pool_size=(2, 2, 2)))\n",
    "\n",
    "model3.add(Conv3D(128, (2, 2, 2), padding='same'))\n",
    "model3.add(Activation('relu'))\n",
    "model3.add(BatchNormalization())\n",
    "model3.add(MaxPooling3D(pool_size=(2, 2, 2)))\n",
    "\n",
    "model3.add(TimeDistributed(Flatten()))\n",
    "model3.add(LSTM(128))\n",
    "model3.add(Dropout(0.5))\n",
    "\n",
    "model3.add(Dense(64,activation='relu'))\n",
    "model3.add(BatchNormalization())\n",
    "model3.add(Dropout(0.25))\n",
    "\n",
    "model3.add(Dense(5,activation='softmax'))"
   ]
  },
  {
   "cell_type": "code",
   "execution_count": 15,
   "metadata": {},
   "outputs": [
    {
     "name": "stdout",
     "output_type": "stream",
     "text": [
      "WARNING:tensorflow:`period` argument is deprecated. Please use `save_freq` to specify the frequency in number of batches seen.\n"
     ]
    }
   ],
   "source": [
    "batch_size = 32\n",
    "train_generator = generator(train_path, train_doc, batch_size)\n",
    "val_generator = generator(val_path, val_doc, batch_size)\n",
    "\n",
    "model_name = 'model3_init' + '_' + str(curr_dt_time).replace(' ','').replace(':','_') + '/'\n",
    "    \n",
    "if not os.path.exists(model_name):\n",
    "    os.mkdir(model_name)\n",
    "        \n",
    "filepath = model_name + 'model-{epoch:05d}-{loss:.5f}-{categorical_accuracy:.5f}-{val_loss:.5f}-{val_categorical_accuracy:.5f}.h5'\n",
    "checkpoint = ModelCheckpoint(filepath, monitor='val_loss', verbose=1, save_best_only=False, save_weights_only=False, mode='auto', period=1)\n",
    "LR = ReduceLROnPlateau(monitor='val_loss', factor=0.2, verbose=1, patience=4)# write the REducelronplateau code here\n",
    "callbacks_list = [checkpoint, LR]"
   ]
  },
  {
   "cell_type": "code",
   "execution_count": 16,
   "metadata": {},
   "outputs": [
    {
     "name": "stdout",
     "output_type": "stream",
     "text": [
      "Model: \"sequential\"\n",
      "_________________________________________________________________\n",
      " Layer (type)                Output Shape              Param #   \n",
      "=================================================================\n",
      " conv3d (Conv3D)             (None, 13, 100, 100, 32)  2624      \n",
      "                                                                 \n",
      " activation (Activation)     (None, 13, 100, 100, 32)  0         \n",
      "                                                                 \n",
      " batch_normalization (BatchN  (None, 13, 100, 100, 32)  128      \n",
      " ormalization)                                                   \n",
      "                                                                 \n",
      " max_pooling3d (MaxPooling3D  (None, 6, 50, 50, 32)    0         \n",
      " )                                                               \n",
      "                                                                 \n",
      " conv3d_1 (Conv3D)           (None, 6, 50, 50, 64)     16448     \n",
      "                                                                 \n",
      " activation_1 (Activation)   (None, 6, 50, 50, 64)     0         \n",
      "                                                                 \n",
      " batch_normalization_1 (Batc  (None, 6, 50, 50, 64)    256       \n",
      " hNormalization)                                                 \n",
      "                                                                 \n",
      " max_pooling3d_1 (MaxPooling  (None, 3, 25, 25, 64)    0         \n",
      " 3D)                                                             \n",
      "                                                                 \n",
      " conv3d_2 (Conv3D)           (None, 3, 25, 25, 128)    65664     \n",
      "                                                                 \n",
      " activation_2 (Activation)   (None, 3, 25, 25, 128)    0         \n",
      "                                                                 \n",
      " batch_normalization_2 (Batc  (None, 3, 25, 25, 128)   512       \n",
      " hNormalization)                                                 \n",
      "                                                                 \n",
      " max_pooling3d_2 (MaxPooling  (None, 1, 12, 12, 128)   0         \n",
      " 3D)                                                             \n",
      "                                                                 \n",
      " time_distributed (TimeDistr  (None, 1, 18432)         0         \n",
      " ibuted)                                                         \n",
      "                                                                 \n",
      " lstm (LSTM)                 (None, 128)               9503232   \n",
      "                                                                 \n",
      " dropout (Dropout)           (None, 128)               0         \n",
      "                                                                 \n",
      " dense (Dense)               (None, 64)                8256      \n",
      "                                                                 \n",
      " batch_normalization_3 (Batc  (None, 64)               256       \n",
      " hNormalization)                                                 \n",
      "                                                                 \n",
      " dropout_1 (Dropout)         (None, 64)                0         \n",
      "                                                                 \n",
      " dense_1 (Dense)             (None, 5)                 325       \n",
      "                                                                 \n",
      "=================================================================\n",
      "Total params: 9,597,701\n",
      "Trainable params: 9,597,125\n",
      "Non-trainable params: 576\n",
      "_________________________________________________________________\n",
      "None\n"
     ]
    }
   ],
   "source": [
    "model3.compile(optimizer=tf.keras.optimizers.Adam(learning_rate=0.00001), loss='categorical_crossentropy', metrics=['categorical_accuracy'])\n",
    "print (model3.summary())"
   ]
  },
  {
   "cell_type": "code",
   "execution_count": 17,
   "metadata": {},
   "outputs": [],
   "source": [
    "steps_per_epoch=0\n",
    "validation_steps=0\n",
    "if (num_train_sequences%batch_size) == 0:\n",
    "    steps_per_epoch = int(num_train_sequences/batch_size)\n",
    "else:\n",
    "    steps_per_epoch = (num_train_sequences//batch_size) + 1\n",
    "\n",
    "if (num_val_sequences%batch_size) == 0:\n",
    "    validation_steps = int(num_val_sequences/batch_size)\n",
    "else:\n",
    "    validation_steps = (num_val_sequences//batch_size) + 1"
   ]
  },
  {
   "cell_type": "code",
   "execution_count": 18,
   "metadata": {},
   "outputs": [
    {
     "name": "stderr",
     "output_type": "stream",
     "text": [
      "/tmp/ipykernel_239/3700006923.py:2: UserWarning: `Model.fit_generator` is deprecated and will be removed in a future version. Please use `Model.fit`, which supports generators.\n",
      "  history3 = model3.fit_generator(train_generator, steps_per_epoch=steps_per_epoch, epochs=m3_num_epochs, verbose=1,\n"
     ]
    },
    {
     "name": "stdout",
     "output_type": "stream",
     "text": [
      "Source path =  /datasets/Project_data/train ; batch size = 32\n",
      "Epoch 1/20\n"
     ]
    },
    {
     "name": "stderr",
     "output_type": "stream",
     "text": [
      "2024-05-01 04:57:27.006446: I tensorflow/stream_executor/cuda/cuda_dnn.cc:377] Loaded cuDNN version 8302\n"
     ]
    },
    {
     "name": "stdout",
     "output_type": "stream",
     "text": [
      "21/21 [==============================] - ETA: 0s - loss: 2.4141 - categorical_accuracy: 0.1979Source path =  /datasets/Project_data/val ; batch size = 32\n",
      "\n",
      "Epoch 00001: saving model to model3_init_2024-05-0104_56_20.859183/model-00001-2.41414-0.19792-1.60803-0.22656.h5\n",
      "21/21 [==============================] - 100s 5s/step - loss: 2.4141 - categorical_accuracy: 0.1979 - val_loss: 1.6080 - val_categorical_accuracy: 0.2266 - lr: 1.0000e-05\n",
      "Epoch 2/20\n",
      "21/21 [==============================] - ETA: 0s - loss: 1.9655 - categorical_accuracy: 0.2708\n",
      "Epoch 00002: saving model to model3_init_2024-05-0104_56_20.859183/model-00002-1.96551-0.27083-1.60895-0.24219.h5\n",
      "21/21 [==============================] - 70s 4s/step - loss: 1.9655 - categorical_accuracy: 0.2708 - val_loss: 1.6089 - val_categorical_accuracy: 0.2422 - lr: 1.0000e-05\n",
      "Epoch 3/20\n",
      "21/21 [==============================] - ETA: 0s - loss: 1.7358 - categorical_accuracy: 0.3274\n",
      "Epoch 00003: saving model to model3_init_2024-05-0104_56_20.859183/model-00003-1.73581-0.32738-1.60020-0.19531.h5\n",
      "21/21 [==============================] - 68s 3s/step - loss: 1.7358 - categorical_accuracy: 0.3274 - val_loss: 1.6002 - val_categorical_accuracy: 0.1953 - lr: 1.0000e-05\n",
      "Epoch 4/20\n",
      "21/21 [==============================] - ETA: 0s - loss: 1.6027 - categorical_accuracy: 0.3929\n",
      "Epoch 00004: saving model to model3_init_2024-05-0104_56_20.859183/model-00004-1.60271-0.39286-1.61656-0.19531.h5\n",
      "21/21 [==============================] - 68s 3s/step - loss: 1.6027 - categorical_accuracy: 0.3929 - val_loss: 1.6166 - val_categorical_accuracy: 0.1953 - lr: 1.0000e-05\n",
      "Epoch 5/20\n",
      "21/21 [==============================] - ETA: 0s - loss: 1.4981 - categorical_accuracy: 0.4330\n",
      "Epoch 00005: saving model to model3_init_2024-05-0104_56_20.859183/model-00005-1.49814-0.43304-1.62906-0.20312.h5\n",
      "21/21 [==============================] - 68s 3s/step - loss: 1.4981 - categorical_accuracy: 0.4330 - val_loss: 1.6291 - val_categorical_accuracy: 0.2031 - lr: 1.0000e-05\n",
      "Epoch 6/20\n",
      "21/21 [==============================] - ETA: 0s - loss: 1.3350 - categorical_accuracy: 0.4702\n",
      "Epoch 00006: saving model to model3_init_2024-05-0104_56_20.859183/model-00006-1.33496-0.47024-1.64490-0.21094.h5\n",
      "21/21 [==============================] - 69s 3s/step - loss: 1.3350 - categorical_accuracy: 0.4702 - val_loss: 1.6449 - val_categorical_accuracy: 0.2109 - lr: 1.0000e-05\n",
      "Epoch 7/20\n",
      "21/21 [==============================] - ETA: 0s - loss: 1.2733 - categorical_accuracy: 0.5164\n",
      "Epoch 00007: saving model to model3_init_2024-05-0104_56_20.859183/model-00007-1.27329-0.51637-1.65059-0.17188.h5\n",
      "\n",
      "Epoch 00007: ReduceLROnPlateau reducing learning rate to 1.9999999494757505e-06.\n",
      "21/21 [==============================] - 69s 3s/step - loss: 1.2733 - categorical_accuracy: 0.5164 - val_loss: 1.6506 - val_categorical_accuracy: 0.1719 - lr: 1.0000e-05\n",
      "Epoch 8/20\n",
      "21/21 [==============================] - ETA: 0s - loss: 1.1237 - categorical_accuracy: 0.5551\n",
      "Epoch 00008: saving model to model3_init_2024-05-0104_56_20.859183/model-00008-1.12368-0.55506-1.67119-0.18750.h5\n",
      "21/21 [==============================] - 67s 3s/step - loss: 1.1237 - categorical_accuracy: 0.5551 - val_loss: 1.6712 - val_categorical_accuracy: 0.1875 - lr: 2.0000e-06\n",
      "Epoch 9/20\n",
      "21/21 [==============================] - ETA: 0s - loss: 1.1516 - categorical_accuracy: 0.5193\n",
      "Epoch 00009: saving model to model3_init_2024-05-0104_56_20.859183/model-00009-1.15157-0.51935-1.73060-0.18750.h5\n",
      "21/21 [==============================] - 68s 3s/step - loss: 1.1516 - categorical_accuracy: 0.5193 - val_loss: 1.7306 - val_categorical_accuracy: 0.1875 - lr: 2.0000e-06\n",
      "Epoch 10/20\n",
      "21/21 [==============================] - ETA: 0s - loss: 1.1588 - categorical_accuracy: 0.5312\n",
      "Epoch 00010: saving model to model3_init_2024-05-0104_56_20.859183/model-00010-1.15883-0.53125-1.75306-0.22656.h5\n",
      "21/21 [==============================] - 69s 3s/step - loss: 1.1588 - categorical_accuracy: 0.5312 - val_loss: 1.7531 - val_categorical_accuracy: 0.2266 - lr: 2.0000e-06\n",
      "Epoch 11/20\n",
      "21/21 [==============================] - ETA: 0s - loss: 1.0648 - categorical_accuracy: 0.5565\n",
      "Epoch 00011: saving model to model3_init_2024-05-0104_56_20.859183/model-00011-1.06480-0.55655-1.79883-0.15625.h5\n",
      "\n",
      "Epoch 00011: ReduceLROnPlateau reducing learning rate to 3.999999989900971e-07.\n",
      "21/21 [==============================] - 68s 3s/step - loss: 1.0648 - categorical_accuracy: 0.5565 - val_loss: 1.7988 - val_categorical_accuracy: 0.1562 - lr: 2.0000e-06\n",
      "Epoch 12/20\n",
      "21/21 [==============================] - ETA: 0s - loss: 1.0861 - categorical_accuracy: 0.5744\n",
      "Epoch 00012: saving model to model3_init_2024-05-0104_56_20.859183/model-00012-1.08606-0.57440-1.84329-0.22656.h5\n",
      "21/21 [==============================] - 68s 3s/step - loss: 1.0861 - categorical_accuracy: 0.5744 - val_loss: 1.8433 - val_categorical_accuracy: 0.2266 - lr: 4.0000e-07\n",
      "Epoch 13/20\n",
      "21/21 [==============================] - ETA: 0s - loss: 1.0281 - categorical_accuracy: 0.5893\n",
      "Epoch 00013: saving model to model3_init_2024-05-0104_56_20.859183/model-00013-1.02811-0.58929-1.86622-0.20312.h5\n",
      "21/21 [==============================] - 67s 3s/step - loss: 1.0281 - categorical_accuracy: 0.5893 - val_loss: 1.8662 - val_categorical_accuracy: 0.2031 - lr: 4.0000e-07\n",
      "Epoch 14/20\n",
      "21/21 [==============================] - ETA: 0s - loss: 1.0569 - categorical_accuracy: 0.5714\n",
      "Epoch 00014: saving model to model3_init_2024-05-0104_56_20.859183/model-00014-1.05685-0.57143-2.00116-0.17969.h5\n",
      "21/21 [==============================] - 69s 3s/step - loss: 1.0569 - categorical_accuracy: 0.5714 - val_loss: 2.0012 - val_categorical_accuracy: 0.1797 - lr: 4.0000e-07\n",
      "Epoch 15/20\n",
      "21/21 [==============================] - ETA: 0s - loss: 1.0563 - categorical_accuracy: 0.5580\n",
      "Epoch 00015: saving model to model3_init_2024-05-0104_56_20.859183/model-00015-1.05628-0.55804-1.96975-0.16406.h5\n",
      "\n",
      "Epoch 00015: ReduceLROnPlateau reducing learning rate to 8.00000009348878e-08.\n",
      "21/21 [==============================] - 70s 4s/step - loss: 1.0563 - categorical_accuracy: 0.5580 - val_loss: 1.9697 - val_categorical_accuracy: 0.1641 - lr: 4.0000e-07\n",
      "Epoch 16/20\n",
      "21/21 [==============================] - ETA: 0s - loss: 1.0542 - categorical_accuracy: 0.5699\n",
      "Epoch 00016: saving model to model3_init_2024-05-0104_56_20.859183/model-00016-1.05420-0.56994-1.95782-0.23438.h5\n",
      "21/21 [==============================] - 68s 3s/step - loss: 1.0542 - categorical_accuracy: 0.5699 - val_loss: 1.9578 - val_categorical_accuracy: 0.2344 - lr: 8.0000e-08\n",
      "Epoch 17/20\n",
      "21/21 [==============================] - ETA: 0s - loss: 1.0689 - categorical_accuracy: 0.5610\n",
      "Epoch 00017: saving model to model3_init_2024-05-0104_56_20.859183/model-00017-1.06895-0.56101-1.97351-0.24219.h5\n",
      "21/21 [==============================] - 68s 3s/step - loss: 1.0689 - categorical_accuracy: 0.5610 - val_loss: 1.9735 - val_categorical_accuracy: 0.2422 - lr: 8.0000e-08\n",
      "Epoch 18/20\n",
      "21/21 [==============================] - ETA: 0s - loss: 1.0531 - categorical_accuracy: 0.5595\n",
      "Epoch 00018: saving model to model3_init_2024-05-0104_56_20.859183/model-00018-1.05306-0.55952-1.88248-0.27344.h5\n",
      "21/21 [==============================] - 112s 6s/step - loss: 1.0531 - categorical_accuracy: 0.5595 - val_loss: 1.8825 - val_categorical_accuracy: 0.2734 - lr: 8.0000e-08\n",
      "Epoch 19/20\n",
      "21/21 [==============================] - ETA: 0s - loss: 1.0131 - categorical_accuracy: 0.5714\n",
      "Epoch 00019: saving model to model3_init_2024-05-0104_56_20.859183/model-00019-1.01311-0.57143-1.92961-0.24219.h5\n",
      "\n",
      "Epoch 00019: ReduceLROnPlateau reducing learning rate to 1.5999999902760466e-08.\n",
      "21/21 [==============================] - 101s 5s/step - loss: 1.0131 - categorical_accuracy: 0.5714 - val_loss: 1.9296 - val_categorical_accuracy: 0.2422 - lr: 8.0000e-08\n",
      "Epoch 20/20\n",
      "21/21 [==============================] - ETA: 0s - loss: 1.0550 - categorical_accuracy: 0.5923\n",
      "Epoch 00020: saving model to model3_init_2024-05-0104_56_20.859183/model-00020-1.05498-0.59226-1.83388-0.25000.h5\n",
      "21/21 [==============================] - 71s 4s/step - loss: 1.0550 - categorical_accuracy: 0.5923 - val_loss: 1.8339 - val_categorical_accuracy: 0.2500 - lr: 1.6000e-08\n"
     ]
    }
   ],
   "source": [
    "m3_num_epochs=20\n",
    "history3 = model3.fit_generator(train_generator, steps_per_epoch=steps_per_epoch, epochs=m3_num_epochs, verbose=1, \n",
    "                    callbacks=callbacks_list, validation_data=val_generator, \n",
    "                    validation_steps=validation_steps, class_weight=None, workers=1, initial_epoch=0)"
   ]
  },
  {
   "cell_type": "code",
   "execution_count": 19,
   "metadata": {},
   "outputs": [
    {
     "data": {
      "text/plain": [
       "<Figure size 720x720 with 0 Axes>"
      ]
     },
     "metadata": {},
     "output_type": "display_data"
    },
    {
     "data": {
      "image/png": "[encoded data removed]",
      "text/plain": [
       "<Figure size 576x576 with 2 Axes>"
      ]
     },
     "metadata": {
      "needs_background": "light"
     },
     "output_type": "display_data"
    }
   ],
   "source": [
    "plot_accur_graph(history3,m3_num_epochs)"
   ]
  },
  {
   "cell_type": "markdown",
   "metadata": {},
   "source": [
    "# Model4\n",
    "\n",
    "TimeDistributed Conv2D + GRU"
   ]
  },
  {
   "cell_type": "code",
   "execution_count": 8,
   "metadata": {},
   "outputs": [],
   "source": [
    "import cv2\n",
    "\n",
    "def generator(source_path, folder_list, batch_size):\n",
    "    print( 'Source path = ', source_path, '; batch size =', batch_size)\n",
    "    img_idx = [2,4,6,8,10,12,14,16,18,20,22,24,26]\n",
    "    while True:\n",
    "        t = np.random.permutation(folder_list)\n",
    "        num_batches = len(t) // batch_size # calculate the number of batches\n",
    "        for batch in range(num_batches): # we iterate over the number of batches\n",
    "            batch_data = np.zeros((batch_size,20,120,120,3)) # x is the number of images you use for each video, (y,z) is the final size of the input images and 3 is the number of channels RGB\n",
    "            batch_labels = np.zeros((batch_size,5)) # batch_labels is the one hot representation of the output\n",
    "            for folder in range(batch_size): # iterate over the batch_size\n",
    "                imgs = os.listdir(source_path+'/'+ t[folder + (batch*batch_size)].split(';')[0]) # read all the images in the folder\n",
    "                for idx,item in enumerate(img_idx): #  Iterate iver the frames/images of a folder to read them in\n",
    "                    image = imread(source_path+'/'+ t[folder + (batch*batch_size)].strip().split(';')[0]+'/'+imgs[item]).astype(np.float32)\n",
    "\n",
    "                    #crop the images and resize them. Note that the images are of 2 different shape\n",
    "                    image = resize(image,(120,120)).astype(np.float32)\n",
    "                    #image=cv2.cvtColor(image,cv2.COLOR_BGR2GRAY)    \n",
    "                    #and the conv3D will throw error if the inputs in a batch have different shapes\n",
    "                    batch_data[folder,idx,:,:,0] = (image[:,:,0])/255 #normalise and feed in the image\n",
    "                    batch_data[folder,idx,:,:,1] = (image[:,:,1])/255 #normalise and feed in the image\n",
    "                    batch_data[folder,idx,:,:,2] = (image[:,:,2])/255 #normalise and feed in the image\n",
    "\n",
    "                batch_labels[folder, int(t[folder + (batch*batch_size)].strip().split(';')[2])] = 1\n",
    "            yield batch_data, batch_labels #you yield the batch_data and the batch_labels, remember what does yield do\n",
    "\n",
    "\n",
    "        # write the code for the remaining data points which are left after full batches\n",
    "        if len(t) % batch_size != 0:\n",
    "            batch_data = np.zeros((batch_size,20,120,120,3))\n",
    "            batch_labels = np.zeros((batch_size,5)) # batch_labels is the one hot representation of the output\n",
    "            for folder in range(batch_size): # iterate over the batch_size\n",
    "                imgs = os.listdir(source_path+'/'+ t[folder + (batch*batch_size)].split(';')[0]) # read all the images in the folder\n",
    "                for idx,item in enumerate(img_idx): #  Iterate iver the frames/images of a folder to read them in\n",
    "                    image = imread(source_path+'/'+ t[folder + (batch*batch_size)].strip().split(';')[0]+'/'+imgs[item]).astype(np.float32)\n",
    "                    image = resize(image,(120,120)).astype(np.float32)\n",
    "                    \n",
    "                    batch_data[folder,idx,:,:,0] = (image[:,:,0])/255\n",
    "                    batch_data[folder,idx,:,:,1] = (image[:,:,1])/255\n",
    "                    batch_data[folder,idx,:,:,2] = (image[:,:,2])/255\n",
    "                batch_labels[folder, int(t[folder + (batch*batch_size)].strip().split(';')[2])] = 1\n",
    "            yield batch_data, batch_labels #you yield the batch_data and the batch_labels, remember what does yield does"
   ]
  },
  {
   "cell_type": "code",
   "execution_count": 9,
   "metadata": {},
   "outputs": [
    {
     "name": "stderr",
     "output_type": "stream",
     "text": [
      "2024-05-01 08:02:07.906378: W tensorflow/core/common_runtime/gpu/gpu_bfc_allocator.cc:39] Overriding allow_growth setting because the TF_FORCE_GPU_ALLOW_GROWTH environment variable is set. Original config value was 0.\n",
      "2024-05-01 08:02:07.906442: I tensorflow/core/common_runtime/gpu/gpu_device.cc:1525] Created device /job:localhost/replica:0/task:0/device:GPU:0 with 14800 MB memory:  -> device: 0, name: Quadro RTX 5000, pci bus id: 0000:1d:00.0, compute capability: 7.5\n"
     ]
    }
   ],
   "source": [
    "from keras.layers import Conv2D,MaxPooling2D,GlobalAveragePooling2D\n",
    "\n",
    "model4 = Sequential()\n",
    "model4.add(TimeDistributed(Conv2D(32, (3,3), activation='relu'), input_shape=(20,120,120,3)))\n",
    "model4.add(TimeDistributed(MaxPooling2D((2,2))))\n",
    "model4.add(BatchNormalization())\n",
    "\n",
    "model4.add(TimeDistributed(Conv2D(64, (3,3), activation='relu')))\n",
    "model4.add(TimeDistributed(MaxPooling2D((2,2))))\n",
    "model4.add(BatchNormalization())\n",
    "\n",
    "model4.add(TimeDistributed(Conv2D(128, (3,3), activation='relu')))\n",
    "model4.add(TimeDistributed(MaxPooling2D((2,2))))\n",
    "model4.add(BatchNormalization())\n",
    "\n",
    "model4.add(TimeDistributed(GlobalAveragePooling2D()))\n",
    "model4.add(TimeDistributed(Dense(64, activation='relu')))\n",
    "model4.add(BatchNormalization())\n",
    "\n",
    "model4.add(GRU(128))\n",
    "model4.add(BatchNormalization())\n",
    "model4.add(Dense(5, activation='softmax'))"
   ]
  },
  {
   "cell_type": "code",
   "execution_count": 10,
   "metadata": {},
   "outputs": [
    {
     "name": "stdout",
     "output_type": "stream",
     "text": [
      "WARNING:tensorflow:`period` argument is deprecated. Please use `save_freq` to specify the frequency in number of batches seen.\n"
     ]
    }
   ],
   "source": [
    "train_generator = generator(train_path, train_doc, batch_size)\n",
    "val_generator = generator(val_path, val_doc, batch_size)\n",
    "\n",
    "batch_size = 32\n",
    "train_generator = generator(train_path, train_doc, batch_size)\n",
    "val_generator = generator(val_path, val_doc, batch_size)\n",
    "\n",
    "model_name = 'model4_init' + '_' + str(curr_dt_time).replace(' ','').replace(':','_') + '/'\n",
    "    \n",
    "if not os.path.exists(model_name):\n",
    "    os.mkdir(model_name)\n",
    "        \n",
    "filepath = model_name + 'model-{epoch:05d}-{loss:.5f}-{categorical_accuracy:.5f}-{val_loss:.5f}-{val_categorical_accuracy:.5f}.h5'\n",
    "checkpoint = ModelCheckpoint(filepath, monitor='val_loss', verbose=1, save_best_only=False, save_weights_only=False, mode='auto', period=1)\n",
    "LR = ReduceLROnPlateau(monitor='val_loss', factor=0.2, verbose=1, patience=4)# write the REducelronplateau code here\n",
    "callbacks_list = [checkpoint, LR]"
   ]
  },
  {
   "cell_type": "code",
   "execution_count": 11,
   "metadata": {},
   "outputs": [
    {
     "name": "stdout",
     "output_type": "stream",
     "text": [
      "Model: \"sequential\"\n",
      "_________________________________________________________________\n",
      " Layer (type)                Output Shape              Param #   \n",
      "=================================================================\n",
      " time_distributed (TimeDistr  (None, 20, 118, 118, 32)  896      \n",
      " ibuted)                                                         \n",
      "                                                                 \n",
      " time_distributed_1 (TimeDis  (None, 20, 59, 59, 32)   0         \n",
      " tributed)                                                       \n",
      "                                                                 \n",
      " batch_normalization (BatchN  (None, 20, 59, 59, 32)   128       \n",
      " ormalization)                                                   \n",
      "                                                                 \n",
      " time_distributed_2 (TimeDis  (None, 20, 57, 57, 64)   18496     \n",
      " tributed)                                                       \n",
      "                                                                 \n",
      " time_distributed_3 (TimeDis  (None, 20, 28, 28, 64)   0         \n",
      " tributed)                                                       \n",
      "                                                                 \n",
      " batch_normalization_1 (Batc  (None, 20, 28, 28, 64)   256       \n",
      " hNormalization)                                                 \n",
      "                                                                 \n",
      " time_distributed_4 (TimeDis  (None, 20, 26, 26, 128)  73856     \n",
      " tributed)                                                       \n",
      "                                                                 \n",
      " time_distributed_5 (TimeDis  (None, 20, 13, 13, 128)  0         \n",
      " tributed)                                                       \n",
      "                                                                 \n",
      " batch_normalization_2 (Batc  (None, 20, 13, 13, 128)  512       \n",
      " hNormalization)                                                 \n",
      "                                                                 \n",
      " time_distributed_6 (TimeDis  (None, 20, 128)          0         \n",
      " tributed)                                                       \n",
      "                                                                 \n",
      " time_distributed_7 (TimeDis  (None, 20, 64)           8256      \n",
      " tributed)                                                       \n",
      "                                                                 \n",
      " batch_normalization_3 (Batc  (None, 20, 64)           256       \n",
      " hNormalization)                                                 \n",
      "                                                                 \n",
      " gru (GRU)                   (None, 128)               74496     \n",
      "                                                                 \n",
      " batch_normalization_4 (Batc  (None, 128)              512       \n",
      " hNormalization)                                                 \n",
      "                                                                 \n",
      " dense_1 (Dense)             (None, 5)                 645       \n",
      "                                                                 \n",
      "=================================================================\n",
      "Total params: 178,309\n",
      "Trainable params: 177,477\n",
      "Non-trainable params: 832\n",
      "_________________________________________________________________\n",
      "None\n"
     ]
    }
   ],
   "source": [
    "model4.compile(optimizer=tf.keras.optimizers.Adam(learning_rate=0.00001), loss='categorical_crossentropy', metrics=['categorical_accuracy'])\n",
    "print (model4.summary())"
   ]
  },
  {
   "cell_type": "code",
   "execution_count": 12,
   "metadata": {},
   "outputs": [
    {
     "name": "stderr",
     "output_type": "stream",
     "text": [
      "/tmp/ipykernel_206/774039227.py:2: UserWarning: `Model.fit_generator` is deprecated and will be removed in a future version. Please use `Model.fit`, which supports generators.\n",
      "  history4 = model4.fit_generator(train_generator, steps_per_epoch=steps_per_epoch, epochs=m4_num_epochs, verbose=1,\n"
     ]
    },
    {
     "name": "stdout",
     "output_type": "stream",
     "text": [
      "Source path =  /datasets/Project_data/train ; batch size = 32\n",
      "Epoch 1/30\n"
     ]
    },
    {
     "name": "stderr",
     "output_type": "stream",
     "text": [
      "2024-05-01 08:02:26.372789: I tensorflow/stream_executor/cuda/cuda_dnn.cc:377] Loaded cuDNN version 8302\n"
     ]
    },
    {
     "name": "stdout",
     "output_type": "stream",
     "text": [
      "21/21 [==============================] - ETA: 0s - loss: 1.6404 - categorical_accuracy: 0.2054Source path =  /datasets/Project_data/val ; batch size = 32\n",
      "\n",
      "Epoch 00001: saving model to model4_init_2024-05-0108_01_40.751964/model-00001-1.64035-0.20536-1.62503-0.21094.h5\n",
      "21/21 [==============================] - 84s 4s/step - loss: 1.6404 - categorical_accuracy: 0.2054 - val_loss: 1.6250 - val_categorical_accuracy: 0.2109 - lr: 1.0000e-05\n",
      "Epoch 2/30\n",
      "21/21 [==============================] - ETA: 0s - loss: 1.5195 - categorical_accuracy: 0.3095\n",
      "Epoch 00002: saving model to model4_init_2024-05-0108_01_40.751964/model-00002-1.51945-0.30952-1.67026-0.17969.h5\n",
      "21/21 [==============================] - 79s 4s/step - loss: 1.5195 - categorical_accuracy: 0.3095 - val_loss: 1.6703 - val_categorical_accuracy: 0.1797 - lr: 1.0000e-05\n",
      "Epoch 3/30\n",
      "21/21 [==============================] - ETA: 0s - loss: 1.4057 - categorical_accuracy: 0.3943\n",
      "Epoch 00003: saving model to model4_init_2024-05-0108_01_40.751964/model-00003-1.40573-0.39435-1.66829-0.27344.h5\n",
      "21/21 [==============================] - 76s 4s/step - loss: 1.4057 - categorical_accuracy: 0.3943 - val_loss: 1.6683 - val_categorical_accuracy: 0.2734 - lr: 1.0000e-05\n",
      "Epoch 4/30\n",
      "21/21 [==============================] - ETA: 0s - loss: 1.3447 - categorical_accuracy: 0.4345\n",
      "Epoch 00004: saving model to model4_init_2024-05-0108_01_40.751964/model-00004-1.34466-0.43452-1.88191-0.17969.h5\n",
      "21/21 [==============================] - 77s 4s/step - loss: 1.3447 - categorical_accuracy: 0.4345 - val_loss: 1.8819 - val_categorical_accuracy: 0.1797 - lr: 1.0000e-05\n",
      "Epoch 5/30\n",
      "21/21 [==============================] - ETA: 0s - loss: 1.3061 - categorical_accuracy: 0.4583\n",
      "Epoch 00005: saving model to model4_init_2024-05-0108_01_40.751964/model-00005-1.30605-0.45833-2.06002-0.14844.h5\n",
      "\n",
      "Epoch 00005: ReduceLROnPlateau reducing learning rate to 1.9999999494757505e-06.\n",
      "21/21 [==============================] - 79s 4s/step - loss: 1.3061 - categorical_accuracy: 0.4583 - val_loss: 2.0600 - val_categorical_accuracy: 0.1484 - lr: 1.0000e-05\n",
      "Epoch 6/30\n",
      "21/21 [==============================] - ETA: 0s - loss: 1.2570 - categorical_accuracy: 0.4911\n",
      "Epoch 00006: saving model to model4_init_2024-05-0108_01_40.751964/model-00006-1.25700-0.49107-2.23680-0.14062.h5\n",
      "21/21 [==============================] - 82s 4s/step - loss: 1.2570 - categorical_accuracy: 0.4911 - val_loss: 2.2368 - val_categorical_accuracy: 0.1406 - lr: 2.0000e-06\n",
      "Epoch 7/30\n",
      "21/21 [==============================] - ETA: 0s - loss: 1.2526 - categorical_accuracy: 0.4866\n",
      "Epoch 00007: saving model to model4_init_2024-05-0108_01_40.751964/model-00007-1.25255-0.48661-2.37115-0.18750.h5\n",
      "21/21 [==============================] - 82s 4s/step - loss: 1.2526 - categorical_accuracy: 0.4866 - val_loss: 2.3711 - val_categorical_accuracy: 0.1875 - lr: 2.0000e-06\n",
      "Epoch 8/30\n",
      "21/21 [==============================] - ETA: 0s - loss: 1.2436 - categorical_accuracy: 0.5208\n",
      "Epoch 00008: saving model to model4_init_2024-05-0108_01_40.751964/model-00008-1.24356-0.52083-2.52292-0.17969.h5\n",
      "21/21 [==============================] - 78s 4s/step - loss: 1.2436 - categorical_accuracy: 0.5208 - val_loss: 2.5229 - val_categorical_accuracy: 0.1797 - lr: 2.0000e-06\n",
      "Epoch 9/30\n",
      "21/21 [==============================] - ETA: 0s - loss: 1.2337 - categorical_accuracy: 0.4911\n",
      "Epoch 00009: saving model to model4_init_2024-05-0108_01_40.751964/model-00009-1.23366-0.49107-2.97054-0.18750.h5\n",
      "\n",
      "Epoch 00009: ReduceLROnPlateau reducing learning rate to 3.999999989900971e-07.\n",
      "21/21 [==============================] - 76s 4s/step - loss: 1.2337 - categorical_accuracy: 0.4911 - val_loss: 2.9705 - val_categorical_accuracy: 0.1875 - lr: 2.0000e-06\n",
      "Epoch 10/30\n",
      "21/21 [==============================] - ETA: 0s - loss: 1.2367 - categorical_accuracy: 0.4926\n",
      "Epoch 00010: saving model to model4_init_2024-05-0108_01_40.751964/model-00010-1.23671-0.49256-3.28205-0.22656.h5\n",
      "21/21 [==============================] - 77s 4s/step - loss: 1.2367 - categorical_accuracy: 0.4926 - val_loss: 3.2820 - val_categorical_accuracy: 0.2266 - lr: 4.0000e-07\n",
      "Epoch 11/30\n",
      "21/21 [==============================] - ETA: 0s - loss: 1.2340 - categorical_accuracy: 0.5030\n",
      "Epoch 00011: saving model to model4_init_2024-05-0108_01_40.751964/model-00011-1.23398-0.50298-3.43199-0.15625.h5\n",
      "21/21 [==============================] - 77s 4s/step - loss: 1.2340 - categorical_accuracy: 0.5030 - val_loss: 3.4320 - val_categorical_accuracy: 0.1562 - lr: 4.0000e-07\n",
      "Epoch 12/30\n",
      "21/21 [==============================] - ETA: 0s - loss: 1.2292 - categorical_accuracy: 0.5149\n",
      "Epoch 00012: saving model to model4_init_2024-05-0108_01_40.751964/model-00012-1.22923-0.51488-3.96288-0.22656.h5\n",
      "21/21 [==============================] - 96s 5s/step - loss: 1.2292 - categorical_accuracy: 0.5149 - val_loss: 3.9629 - val_categorical_accuracy: 0.2266 - lr: 4.0000e-07\n",
      "Epoch 13/30\n",
      "21/21 [==============================] - ETA: 0s - loss: 1.2225 - categorical_accuracy: 0.5104\n",
      "Epoch 00013: saving model to model4_init_2024-05-0108_01_40.751964/model-00013-1.22248-0.51042-4.05059-0.20312.h5\n",
      "\n",
      "Epoch 00013: ReduceLROnPlateau reducing learning rate to 8.00000009348878e-08.\n",
      "21/21 [==============================] - 77s 4s/step - loss: 1.2225 - categorical_accuracy: 0.5104 - val_loss: 4.0506 - val_categorical_accuracy: 0.2031 - lr: 4.0000e-07\n",
      "Epoch 14/30\n",
      "21/21 [==============================] - ETA: 0s - loss: 1.2213 - categorical_accuracy: 0.4970\n",
      "Epoch 00014: saving model to model4_init_2024-05-0108_01_40.751964/model-00014-1.22131-0.49702-5.29380-0.17969.h5\n",
      "21/21 [==============================] - 79s 4s/step - loss: 1.2213 - categorical_accuracy: 0.4970 - val_loss: 5.2938 - val_categorical_accuracy: 0.1797 - lr: 8.0000e-08\n",
      "Epoch 15/30\n",
      "21/21 [==============================] - ETA: 0s - loss: 1.2284 - categorical_accuracy: 0.5030\n",
      "Epoch 00015: saving model to model4_init_2024-05-0108_01_40.751964/model-00015-1.22838-0.50298-5.55012-0.17188.h5\n",
      "21/21 [==============================] - 79s 4s/step - loss: 1.2284 - categorical_accuracy: 0.5030 - val_loss: 5.5501 - val_categorical_accuracy: 0.1719 - lr: 8.0000e-08\n",
      "Epoch 16/30\n",
      "21/21 [==============================] - ETA: 0s - loss: 1.2318 - categorical_accuracy: 0.5000\n",
      "Epoch 00016: saving model to model4_init_2024-05-0108_01_40.751964/model-00016-1.23181-0.50000-5.96579-0.22656.h5\n",
      "21/21 [==============================] - 77s 4s/step - loss: 1.2318 - categorical_accuracy: 0.5000 - val_loss: 5.9658 - val_categorical_accuracy: 0.2266 - lr: 8.0000e-08\n",
      "Epoch 17/30\n",
      "21/21 [==============================] - ETA: 0s - loss: 1.2298 - categorical_accuracy: 0.5000\n",
      "Epoch 00017: saving model to model4_init_2024-05-0108_01_40.751964/model-00017-1.22976-0.50000-7.10918-0.19531.h5\n",
      "\n",
      "Epoch 00017: ReduceLROnPlateau reducing learning rate to 1.5999999902760466e-08.\n",
      "21/21 [==============================] - 76s 4s/step - loss: 1.2298 - categorical_accuracy: 0.5000 - val_loss: 7.1092 - val_categorical_accuracy: 0.1953 - lr: 8.0000e-08\n",
      "Epoch 18/30\n",
      "21/21 [==============================] - ETA: 0s - loss: 1.2218 - categorical_accuracy: 0.5000\n",
      "Epoch 00018: saving model to model4_init_2024-05-0108_01_40.751964/model-00018-1.22175-0.50000-7.39329-0.21094.h5\n",
      "21/21 [==============================] - 81s 4s/step - loss: 1.2218 - categorical_accuracy: 0.5000 - val_loss: 7.3933 - val_categorical_accuracy: 0.2109 - lr: 1.6000e-08\n",
      "Epoch 19/30\n",
      "21/21 [==============================] - ETA: 0s - loss: 1.2155 - categorical_accuracy: 0.5104\n",
      "Epoch 00019: saving model to model4_init_2024-05-0108_01_40.751964/model-00019-1.21548-0.51042-9.02592-0.17969.h5\n",
      "21/21 [==============================] - 80s 4s/step - loss: 1.2155 - categorical_accuracy: 0.5104 - val_loss: 9.0259 - val_categorical_accuracy: 0.1797 - lr: 1.6000e-08\n",
      "Epoch 20/30\n",
      "21/21 [==============================] - ETA: 0s - loss: 1.2148 - categorical_accuracy: 0.4940\n",
      "Epoch 00020: saving model to model4_init_2024-05-0108_01_40.751964/model-00020-1.21483-0.49405-9.97307-0.19531.h5\n",
      "21/21 [==============================] - 80s 4s/step - loss: 1.2148 - categorical_accuracy: 0.4940 - val_loss: 9.9731 - val_categorical_accuracy: 0.1953 - lr: 1.6000e-08\n",
      "Epoch 21/30\n",
      "21/21 [==============================] - ETA: 0s - loss: 1.2177 - categorical_accuracy: 0.5164\n",
      "Epoch 00021: saving model to model4_init_2024-05-0108_01_40.751964/model-00021-1.21772-0.51637-11.00103-0.20312.h5\n",
      "\n",
      "Epoch 00021: ReduceLROnPlateau reducing learning rate to 3.1999999094978194e-09.\n",
      "21/21 [==============================] - 79s 4s/step - loss: 1.2177 - categorical_accuracy: 0.5164 - val_loss: 11.0010 - val_categorical_accuracy: 0.2031 - lr: 1.6000e-08\n",
      "Epoch 22/30\n",
      "21/21 [==============================] - ETA: 0s - loss: 1.2300 - categorical_accuracy: 0.5223\n",
      "Epoch 00022: saving model to model4_init_2024-05-0108_01_40.751964/model-00022-1.22999-0.52232-11.67601-0.21094.h5\n",
      "21/21 [==============================] - 75s 4s/step - loss: 1.2300 - categorical_accuracy: 0.5223 - val_loss: 11.6760 - val_categorical_accuracy: 0.2109 - lr: 3.2000e-09\n",
      "Epoch 23/30\n",
      "21/21 [==============================] - ETA: 0s - loss: 1.2207 - categorical_accuracy: 0.5179\n",
      "Epoch 00023: saving model to model4_init_2024-05-0108_01_40.751964/model-00023-1.22074-0.51786-11.97482-0.20312.h5\n",
      "21/21 [==============================] - 76s 4s/step - loss: 1.2207 - categorical_accuracy: 0.5179 - val_loss: 11.9748 - val_categorical_accuracy: 0.2031 - lr: 3.2000e-09\n",
      "Epoch 24/30\n",
      "21/21 [==============================] - ETA: 0s - loss: 1.2345 - categorical_accuracy: 0.5119\n",
      "Epoch 00024: saving model to model4_init_2024-05-0108_01_40.751964/model-00024-1.23450-0.51190-12.42853-0.21875.h5\n",
      "21/21 [==============================] - 78s 4s/step - loss: 1.2345 - categorical_accuracy: 0.5119 - val_loss: 12.4285 - val_categorical_accuracy: 0.2188 - lr: 3.2000e-09\n",
      "Epoch 25/30\n",
      "21/21 [==============================] - ETA: 0s - loss: 1.2139 - categorical_accuracy: 0.5164\n",
      "Epoch 00025: saving model to model4_init_2024-05-0108_01_40.751964/model-00025-1.21388-0.51637-12.53806-0.19531.h5\n",
      "\n",
      "Epoch 00025: ReduceLROnPlateau reducing learning rate to 6.399999641359955e-10.\n",
      "21/21 [==============================] - 81s 4s/step - loss: 1.2139 - categorical_accuracy: 0.5164 - val_loss: 12.5381 - val_categorical_accuracy: 0.1953 - lr: 3.2000e-09\n",
      "Epoch 26/30\n",
      "21/21 [==============================] - ETA: 0s - loss: 1.2229 - categorical_accuracy: 0.5015\n",
      "Epoch 00026: saving model to model4_init_2024-05-0108_01_40.751964/model-00026-1.22290-0.50149-11.51369-0.25000.h5\n",
      "21/21 [==============================] - 80s 4s/step - loss: 1.2229 - categorical_accuracy: 0.5015 - val_loss: 11.5137 - val_categorical_accuracy: 0.2500 - lr: 6.4000e-10\n",
      "Epoch 27/30\n",
      "21/21 [==============================] - ETA: 0s - loss: 1.2138 - categorical_accuracy: 0.5149\n",
      "Epoch 00027: saving model to model4_init_2024-05-0108_01_40.751964/model-00027-1.21379-0.51488-11.73308-0.25781.h5\n",
      "21/21 [==============================] - 110s 5s/step - loss: 1.2138 - categorical_accuracy: 0.5149 - val_loss: 11.7331 - val_categorical_accuracy: 0.2578 - lr: 6.4000e-10\n",
      "Epoch 28/30\n",
      "21/21 [==============================] - ETA: 0s - loss: 1.2084 - categorical_accuracy: 0.5134\n",
      "Epoch 00028: saving model to model4_init_2024-05-0108_01_40.751964/model-00028-1.20842-0.51339-12.81275-0.19531.h5\n",
      "21/21 [==============================] - 91s 5s/step - loss: 1.2084 - categorical_accuracy: 0.5134 - val_loss: 12.8127 - val_categorical_accuracy: 0.1953 - lr: 6.4000e-10\n",
      "Epoch 29/30\n",
      "21/21 [==============================] - ETA: 0s - loss: 1.2097 - categorical_accuracy: 0.5193\n",
      "Epoch 00029: saving model to model4_init_2024-05-0108_01_40.751964/model-00029-1.20967-0.51935-12.56030-0.19531.h5\n",
      "\n",
      "Epoch 00029: ReduceLROnPlateau reducing learning rate to 1.27999988386307e-10.\n",
      "21/21 [==============================] - 78s 4s/step - loss: 1.2097 - categorical_accuracy: 0.5193 - val_loss: 12.5603 - val_categorical_accuracy: 0.1953 - lr: 6.4000e-10\n",
      "Epoch 30/30\n",
      "21/21 [==============================] - ETA: 0s - loss: 1.2031 - categorical_accuracy: 0.5149\n",
      "Epoch 00030: saving model to model4_init_2024-05-0108_01_40.751964/model-00030-1.20310-0.51488-11.92489-0.21094.h5\n",
      "21/21 [==============================] - 79s 4s/step - loss: 1.2031 - categorical_accuracy: 0.5149 - val_loss: 11.9249 - val_categorical_accuracy: 0.2109 - lr: 1.2800e-10\n"
     ]
    }
   ],
   "source": [
    "m4_num_epochs=30\n",
    "history4 = model4.fit_generator(train_generator, steps_per_epoch=steps_per_epoch, epochs=m4_num_epochs, verbose=1, \n",
    "                    callbacks=callbacks_list, validation_data=val_generator, \n",
    "                    validation_steps=validation_steps, class_weight=None, workers=1, initial_epoch=0)"
   ]
  },
  {
   "cell_type": "code",
   "execution_count": 52,
   "metadata": {},
   "outputs": [
    {
     "ename": "NameError",
     "evalue": "name 'plot_accur_graph' is not defined",
     "output_type": "error",
     "traceback": [
      "\u001b[0;31m---------------------------------------------------------------------------\u001b[0m",
      "\u001b[0;31mNameError\u001b[0m                                 Traceback (most recent call last)",
      "\u001b[0;32m/tmp/ipykernel_209/3128788987.py\u001b[0m in \u001b[0;36m<module>\u001b[0;34m\u001b[0m\n\u001b[0;32m----> 1\u001b[0;31m \u001b[0mplot_accur_graph\u001b[0m\u001b[0;34m(\u001b[0m\u001b[0mhistory4\u001b[0m\u001b[0;34m,\u001b[0m\u001b[0mm4_num_epochs\u001b[0m\u001b[0;34m)\u001b[0m\u001b[0;34m\u001b[0m\u001b[0;34m\u001b[0m\u001b[0m\n\u001b[0m",
      "\u001b[0;31mNameError\u001b[0m: name 'plot_accur_graph' is not defined"
     ]
    }
   ],
   "source": [
    "plot_accur_graph(history4,m4_num_epochs)"
   ]
  },
  {
   "cell_type": "markdown",
   "metadata": {},
   "source": [
    "# Model5"
   ]
  },
  {
   "cell_type": "code",
   "execution_count": 47,
   "metadata": {},
   "outputs": [],
   "source": [
    "import cv2\n",
    "\n",
    "def generator(source_path, folder_list, batch_size):\n",
    "    print( 'Source path = ', source_path, '; batch size =', batch_size)\n",
    "    img_idx = [2,4,6,8,10,12,14,16,18,20,22,24,26]\n",
    "    while True:\n",
    "        t = np.random.permutation(folder_list)\n",
    "        num_batches = len(t) // batch_size # calculate the number of batches\n",
    "        for batch in range(num_batches): # we iterate over the number of batches\n",
    "            batch_data = np.zeros((batch_size,20,120,120,3)) # x is the number of images you use for each video, (y,z) is the final size of the input images and 3 is the number of channels RGB\n",
    "            batch_labels = np.zeros((batch_size,5)) # batch_labels is the one hot representation of the output\n",
    "            for folder in range(batch_size): # iterate over the batch_size\n",
    "                imgs = os.listdir(source_path+'/'+ t[folder + (batch*batch_size)].split(';')[0]) # read all the images in the folder\n",
    "                for idx,item in enumerate(img_idx): #  Iterate iver the frames/images of a folder to read them in\n",
    "                    image = imread(source_path+'/'+ t[folder + (batch*batch_size)].strip().split(';')[0]+'/'+imgs[item]).astype(np.float32)\n",
    "\n",
    "                    shifted = cv2.warpAffine(image, \n",
    "                                             np.float32([[1, 0, np.random.randint(-30,30)],[0, 1, np.random.randint(-30,30)]]), \n",
    "                                            (image.shape[1], image.shape[0]))\n",
    "                    \n",
    "                    gray = cv2.cvtColor(shifted,cv2.COLOR_BGR2GRAY)\n",
    "\n",
    "                    x0, y0 = np.argwhere(gray > 0).min(axis=0)\n",
    "                    x1, y1 = np.argwhere(gray > 0).max(axis=0) \n",
    "                    \n",
    "                    cropped=shifted[x0:x1,y0:y1,:]\n",
    "                    \n",
    "                    image_resized=resize(cropped,(120,120,3))\n",
    "                    \n",
    "                    batch_data[folder,idx,:,:,0] = (image_resized[:,:,0])/255\n",
    "                    batch_data[folder,idx,:,:,1] = (image_resized[:,:,1])/255\n",
    "                    batch_data[folder,idx,:,:,2] = (image_resized[:,:,2])/255\n",
    "                        \n",
    "                batch_labels[folder, int(t[folder + (batch*batch_size)].strip().split(';')[2])] = 1\n",
    "            yield batch_data, batch_labels #you yield the batch_data and the batch_labels, remember what does yield do\n",
    "\n",
    "\n",
    "        # write the code for the remaining data points which are left after full batches\n",
    "        if len(t) % batch_size != 0:\n",
    "            batch_data = np.zeros((batch_size,20,120,120,3))\n",
    "            batch_labels = np.zeros((batch_size,5)) # batch_labels is the one hot representation of the output\n",
    "            for folder in range(batch_size): # iterate over the batch_size\n",
    "                imgs = os.listdir(source_path+'/'+ t[folder + (batch*batch_size)].split(';')[0]) # read all the images in the folder\n",
    "                for idx,item in enumerate(img_idx): #  Iterate iver the frames/images of a folder to read them in\n",
    "                    image = imread(source_path+'/'+ t[folder + (batch*batch_size)].strip().split(';')[0]+'/'+imgs[item]).astype(np.float32)\n",
    "                    shifted = cv2.warpAffine(image, \n",
    "                                             np.float32([[1, 0, np.random.randint(-30,30)],[0, 1, np.random.randint(-30,30)]]), \n",
    "                                            (image.shape[1], image.shape[0]))\n",
    "                    \n",
    "                    gray = cv2.cvtColor(shifted,cv2.COLOR_BGR2GRAY)\n",
    "\n",
    "                    x0, y0 = np.argwhere(gray > 0).min(axis=0)\n",
    "                    x1, y1 = np.argwhere(gray > 0).max(axis=0) \n",
    "                    \n",
    "                    cropped=shifted[x0:x1,y0:y1,:]\n",
    "                    \n",
    "                    image_resized=resize(cropped,(120,120,3))\n",
    "                    \n",
    "                    batch_data[folder,idx,:,:,0] = (image_resized[:,:,0])/255\n",
    "                    batch_data[folder,idx,:,:,1] = (image_resized[:,:,1])/255\n",
    "                    batch_data[folder,idx,:,:,2] = (image_resized[:,:,2])/255\n",
    "                batch_labels[folder, int(t[folder + (batch*batch_size)].strip().split(';')[2])] = 1\n",
    "            yield batch_data, batch_labels #you yield the batch_data and the batch_labels, remember what does yield does"
   ]
  },
  {
   "cell_type": "code",
   "execution_count": 48,
   "metadata": {},
   "outputs": [],
   "source": [
    "from keras.layers import Conv2D,MaxPooling2D,GlobalAveragePooling2D\n",
    "\n",
    "model5 = Sequential()\n",
    "model5.add(TimeDistributed(Conv2D(32, (3,3), activation='relu'), input_shape=(20,120,120,3)))\n",
    "model5.add(TimeDistributed(MaxPooling2D((2,2))))\n",
    "model5.add(BatchNormalization())\n",
    "\n",
    "model5.add(TimeDistributed(Conv2D(64, (3,3), activation='relu')))\n",
    "model5.add(TimeDistributed(MaxPooling2D((2,2))))\n",
    "model5.add(BatchNormalization())\n",
    "\n",
    "model5.add(TimeDistributed(Conv2D(128, (3,3), activation='relu')))\n",
    "model5.add(TimeDistributed(MaxPooling2D((2,2))))\n",
    "model5.add(BatchNormalization())\n",
    "\n",
    "model5.add(TimeDistributed(GlobalAveragePooling2D()))\n",
    "model5.add(TimeDistributed(Dense(64, activation='relu')))\n",
    "model5.add(BatchNormalization())\n",
    "\n",
    "model5.add(GRU(128))\n",
    "model5.add(BatchNormalization())\n",
    "model5.add(Dense(5, activation='softmax'))"
   ]
  },
  {
   "cell_type": "code",
   "execution_count": 49,
   "metadata": {},
   "outputs": [
    {
     "name": "stdout",
     "output_type": "stream",
     "text": [
      "WARNING:tensorflow:`period` argument is deprecated. Please use `save_freq` to specify the frequency in number of batches seen.\n"
     ]
    }
   ],
   "source": [
    "train_generator = generator(train_path, train_doc, batch_size)\n",
    "val_generator = generator(val_path, val_doc, batch_size)\n",
    "\n",
    "batch_size = 32\n",
    "train_generator = generator(train_path, train_doc, batch_size)\n",
    "val_generator = generator(val_path, val_doc, batch_size)\n",
    "\n",
    "model_name = 'model5_init' + '_' + str(curr_dt_time).replace(' ','').replace(':','_') + '/'\n",
    "    \n",
    "if not os.path.exists(model_name):\n",
    "    os.mkdir(model_name)\n",
    "        \n",
    "filepath = model_name + 'model-{epoch:05d}-{loss:.5f}-{categorical_accuracy:.5f}-{val_loss:.5f}-{val_categorical_accuracy:.5f}.h5'\n",
    "checkpoint = ModelCheckpoint(filepath, monitor='val_loss', verbose=1, save_best_only=False, save_weights_only=False, mode='auto', period=1)\n",
    "LR = ReduceLROnPlateau(monitor='val_loss', factor=0.2, verbose=1, patience=4)# write the REducelronplateau code here\n",
    "callbacks_list = [checkpoint, LR]"
   ]
  },
  {
   "cell_type": "code",
   "execution_count": 50,
   "metadata": {},
   "outputs": [
    {
     "name": "stdout",
     "output_type": "stream",
     "text": [
      "Model: \"sequential_7\"\n",
      "_________________________________________________________________\n",
      " Layer (type)                Output Shape              Param #   \n",
      "=================================================================\n",
      " time_distributed_49 (TimeDi  (None, 20, 118, 118, 32)  896      \n",
      " stributed)                                                      \n",
      "                                                                 \n",
      " time_distributed_50 (TimeDi  (None, 20, 59, 59, 32)   0         \n",
      " stributed)                                                      \n",
      "                                                                 \n",
      " batch_normalization_30 (Bat  (None, 20, 59, 59, 32)   128       \n",
      " chNormalization)                                                \n",
      "                                                                 \n",
      " time_distributed_51 (TimeDi  (None, 20, 57, 57, 64)   18496     \n",
      " stributed)                                                      \n",
      "                                                                 \n",
      " time_distributed_52 (TimeDi  (None, 20, 28, 28, 64)   0         \n",
      " stributed)                                                      \n",
      "                                                                 \n",
      " batch_normalization_31 (Bat  (None, 20, 28, 28, 64)   256       \n",
      " chNormalization)                                                \n",
      "                                                                 \n",
      " time_distributed_53 (TimeDi  (None, 20, 26, 26, 128)  73856     \n",
      " stributed)                                                      \n",
      "                                                                 \n",
      " time_distributed_54 (TimeDi  (None, 20, 13, 13, 128)  0         \n",
      " stributed)                                                      \n",
      "                                                                 \n",
      " batch_normalization_32 (Bat  (None, 20, 13, 13, 128)  512       \n",
      " chNormalization)                                                \n",
      "                                                                 \n",
      " time_distributed_55 (TimeDi  (None, 20, 128)          0         \n",
      " stributed)                                                      \n",
      "                                                                 \n",
      " time_distributed_56 (TimeDi  (None, 20, 64)           8256      \n",
      " stributed)                                                      \n",
      "                                                                 \n",
      " batch_normalization_33 (Bat  (None, 20, 64)           256       \n",
      " chNormalization)                                                \n",
      "                                                                 \n",
      " gru_6 (GRU)                 (None, 128)               74496     \n",
      "                                                                 \n",
      " batch_normalization_34 (Bat  (None, 128)              512       \n",
      " chNormalization)                                                \n",
      "                                                                 \n",
      " dense_13 (Dense)            (None, 5)                 645       \n",
      "                                                                 \n",
      "=================================================================\n",
      "Total params: 178,309\n",
      "Trainable params: 177,477\n",
      "Non-trainable params: 832\n",
      "_________________________________________________________________\n",
      "None\n"
     ]
    }
   ],
   "source": [
    "model5.compile(optimizer=tf.keras.optimizers.Adam(learning_rate=0.00001), loss='categorical_crossentropy', metrics=['categorical_accuracy'])\n",
    "print (model5.summary())"
   ]
  },
  {
   "cell_type": "code",
   "execution_count": 51,
   "metadata": {},
   "outputs": [
    {
     "name": "stdout",
     "output_type": "stream",
     "text": [
      "Source path =  /datasets/Project_data/train ; batch size = 32\n",
      "Epoch 1/25\n"
     ]
    },
    {
     "name": "stderr",
     "output_type": "stream",
     "text": [
      "2024-05-01 10:30:38.853145: I tensorflow/stream_executor/cuda/cuda_dnn.cc:377] Loaded cuDNN version 8302\n"
     ]
    },
    {
     "name": "stdout",
     "output_type": "stream",
     "text": [
      "21/21 [==============================] - ETA: 0s - loss: 1.4547 - categorical_accuracy: 0.3795Source path =  /datasets/Project_data/val ; batch size = 32\n",
      "\n",
      "Epoch 00001: saving model to model5_init_2024-05-0110_14_08.858852/model-00001-1.45475-0.37946-1.60266-0.21875.h5\n",
      "21/21 [==============================] - 137s 7s/step - loss: 1.4547 - categorical_accuracy: 0.3795 - val_loss: 1.6027 - val_categorical_accuracy: 0.2188 - lr: 1.0000e-05\n",
      "Epoch 2/25\n",
      "21/21 [==============================] - ETA: 0s - loss: 1.3582 - categorical_accuracy: 0.4390\n",
      "Epoch 00002: saving model to model5_init_2024-05-0110_14_08.858852/model-00002-1.35823-0.43899-1.61162-0.27344.h5\n",
      "21/21 [==============================] - 141s 7s/step - loss: 1.3582 - categorical_accuracy: 0.4390 - val_loss: 1.6116 - val_categorical_accuracy: 0.2734 - lr: 1.0000e-05\n",
      "Epoch 3/25\n",
      "21/21 [==============================] - ETA: 0s - loss: 1.2877 - categorical_accuracy: 0.4792\n",
      "Epoch 00003: saving model to model5_init_2024-05-0110_14_08.858852/model-00003-1.28767-0.47917-1.61491-0.25000.h5\n",
      "21/21 [==============================] - 97s 5s/step - loss: 1.2877 - categorical_accuracy: 0.4792 - val_loss: 1.6149 - val_categorical_accuracy: 0.2500 - lr: 1.0000e-05\n",
      "Epoch 4/25\n",
      "21/21 [==============================] - ETA: 0s - loss: 1.2570 - categorical_accuracy: 0.4836\n",
      "Epoch 00004: saving model to model5_init_2024-05-0110_14_08.858852/model-00004-1.25698-0.48363-1.63208-0.24219.h5\n",
      "21/21 [==============================] - 96s 5s/step - loss: 1.2570 - categorical_accuracy: 0.4836 - val_loss: 1.6321 - val_categorical_accuracy: 0.2422 - lr: 1.0000e-05\n",
      "Epoch 5/25\n",
      "21/21 [==============================] - ETA: 0s - loss: 1.1965 - categorical_accuracy: 0.5149\n",
      "Epoch 00005: saving model to model5_init_2024-05-0110_14_08.858852/model-00005-1.19648-0.51488-1.66325-0.24219.h5\n",
      "\n",
      "Epoch 00005: ReduceLROnPlateau reducing learning rate to 1.9999999494757505e-06.\n",
      "21/21 [==============================] - 95s 5s/step - loss: 1.1965 - categorical_accuracy: 0.5149 - val_loss: 1.6632 - val_categorical_accuracy: 0.2422 - lr: 1.0000e-05\n",
      "Epoch 6/25\n",
      "21/21 [==============================] - ETA: 0s - loss: 1.1693 - categorical_accuracy: 0.5432\n",
      "Epoch 00006: saving model to model5_init_2024-05-0110_14_08.858852/model-00006-1.16926-0.54315-1.74556-0.25781.h5\n",
      "21/21 [==============================] - 94s 5s/step - loss: 1.1693 - categorical_accuracy: 0.5432 - val_loss: 1.7456 - val_categorical_accuracy: 0.2578 - lr: 2.0000e-06\n",
      "Epoch 7/25\n",
      "21/21 [==============================] - ETA: 0s - loss: 1.1623 - categorical_accuracy: 0.5521\n",
      "Epoch 00007: saving model to model5_init_2024-05-0110_14_08.858852/model-00007-1.16230-0.55208-2.03744-0.18750.h5\n",
      "21/21 [==============================] - 102s 5s/step - loss: 1.1623 - categorical_accuracy: 0.5521 - val_loss: 2.0374 - val_categorical_accuracy: 0.1875 - lr: 2.0000e-06\n",
      "Epoch 8/25\n",
      "21/21 [==============================] - ETA: 0s - loss: 1.1569 - categorical_accuracy: 0.5729\n",
      "Epoch 00008: saving model to model5_init_2024-05-0110_14_08.858852/model-00008-1.15688-0.57292-2.13482-0.23438.h5\n",
      "21/21 [==============================] - 102s 5s/step - loss: 1.1569 - categorical_accuracy: 0.5729 - val_loss: 2.1348 - val_categorical_accuracy: 0.2344 - lr: 2.0000e-06\n",
      "Epoch 9/25\n",
      "21/21 [==============================] - ETA: 0s - loss: 1.1338 - categorical_accuracy: 0.5699\n",
      "Epoch 00009: saving model to model5_init_2024-05-0110_14_08.858852/model-00009-1.13383-0.56994-2.43913-0.21875.h5\n",
      "\n",
      "Epoch 00009: ReduceLROnPlateau reducing learning rate to 3.999999989900971e-07.\n",
      "21/21 [==============================] - 102s 5s/step - loss: 1.1338 - categorical_accuracy: 0.5699 - val_loss: 2.4391 - val_categorical_accuracy: 0.2188 - lr: 2.0000e-06\n",
      "Epoch 10/25\n",
      "21/21 [==============================] - ETA: 0s - loss: 1.1455 - categorical_accuracy: 0.5729\n",
      "Epoch 00010: saving model to model5_init_2024-05-0110_14_08.858852/model-00010-1.14548-0.57292-2.91549-0.21094.h5\n",
      "21/21 [==============================] - 100s 5s/step - loss: 1.1455 - categorical_accuracy: 0.5729 - val_loss: 2.9155 - val_categorical_accuracy: 0.2109 - lr: 4.0000e-07\n",
      "Epoch 11/25\n",
      "21/21 [==============================] - ETA: 0s - loss: 1.1404 - categorical_accuracy: 0.5774\n",
      "Epoch 00011: saving model to model5_init_2024-05-0110_14_08.858852/model-00011-1.14045-0.57738-3.32101-0.23438.h5\n",
      "21/21 [==============================] - 102s 5s/step - loss: 1.1404 - categorical_accuracy: 0.5774 - val_loss: 3.3210 - val_categorical_accuracy: 0.2344 - lr: 4.0000e-07\n",
      "Epoch 12/25\n",
      "21/21 [==============================] - ETA: 0s - loss: 1.1450 - categorical_accuracy: 0.5714\n",
      "Epoch 00012: saving model to model5_init_2024-05-0110_14_08.858852/model-00012-1.14500-0.57143-3.66954-0.25781.h5\n",
      "21/21 [==============================] - 101s 5s/step - loss: 1.1450 - categorical_accuracy: 0.5714 - val_loss: 3.6695 - val_categorical_accuracy: 0.2578 - lr: 4.0000e-07\n",
      "Epoch 13/25\n",
      "21/21 [==============================] - ETA: 0s - loss: 1.1504 - categorical_accuracy: 0.5551\n",
      "Epoch 00013: saving model to model5_init_2024-05-0110_14_08.858852/model-00013-1.15037-0.55506-4.17505-0.24219.h5\n",
      "\n",
      "Epoch 00013: ReduceLROnPlateau reducing learning rate to 8.00000009348878e-08.\n",
      "21/21 [==============================] - 100s 5s/step - loss: 1.1504 - categorical_accuracy: 0.5551 - val_loss: 4.1751 - val_categorical_accuracy: 0.2422 - lr: 4.0000e-07\n",
      "Epoch 14/25\n",
      "21/21 [==============================] - ETA: 0s - loss: 1.1382 - categorical_accuracy: 0.5878\n",
      "Epoch 00014: saving model to model5_init_2024-05-0110_14_08.858852/model-00014-1.13822-0.58780-5.23009-0.20312.h5\n",
      "21/21 [==============================] - 100s 5s/step - loss: 1.1382 - categorical_accuracy: 0.5878 - val_loss: 5.2301 - val_categorical_accuracy: 0.2031 - lr: 8.0000e-08\n",
      "Epoch 15/25\n",
      "21/21 [==============================] - ETA: 0s - loss: 1.1407 - categorical_accuracy: 0.5670\n",
      "Epoch 00015: saving model to model5_init_2024-05-0110_14_08.858852/model-00015-1.14066-0.56696-5.58661-0.21875.h5\n",
      "21/21 [==============================] - 93s 5s/step - loss: 1.1407 - categorical_accuracy: 0.5670 - val_loss: 5.5866 - val_categorical_accuracy: 0.2188 - lr: 8.0000e-08\n",
      "Epoch 16/25\n",
      "21/21 [==============================] - ETA: 0s - loss: 1.1397 - categorical_accuracy: 0.5789\n",
      "Epoch 00016: saving model to model5_init_2024-05-0110_14_08.858852/model-00016-1.13965-0.57887-5.95399-0.25000.h5\n",
      "21/21 [==============================] - 94s 5s/step - loss: 1.1397 - categorical_accuracy: 0.5789 - val_loss: 5.9540 - val_categorical_accuracy: 0.2500 - lr: 8.0000e-08\n",
      "Epoch 17/25\n",
      "21/21 [==============================] - ETA: 0s - loss: 1.1086 - categorical_accuracy: 0.5789\n",
      "Epoch 00017: saving model to model5_init_2024-05-0110_14_08.858852/model-00017-1.10862-0.57887-6.74860-0.21094.h5\n",
      "\n",
      "Epoch 00017: ReduceLROnPlateau reducing learning rate to 1.5999999902760466e-08.\n",
      "21/21 [==============================] - 95s 5s/step - loss: 1.1086 - categorical_accuracy: 0.5789 - val_loss: 6.7486 - val_categorical_accuracy: 0.2109 - lr: 8.0000e-08\n",
      "Epoch 18/25\n",
      "21/21 [==============================] - ETA: 0s - loss: 1.1305 - categorical_accuracy: 0.5818\n",
      "Epoch 00018: saving model to model5_init_2024-05-0110_14_08.858852/model-00018-1.13046-0.58185-7.00808-0.22656.h5\n",
      "21/21 [==============================] - 96s 5s/step - loss: 1.1305 - categorical_accuracy: 0.5818 - val_loss: 7.0081 - val_categorical_accuracy: 0.2266 - lr: 1.6000e-08\n",
      "Epoch 19/25\n",
      "21/21 [==============================] - ETA: 0s - loss: 1.1244 - categorical_accuracy: 0.5938\n",
      "Epoch 00019: saving model to model5_init_2024-05-0110_14_08.858852/model-00019-1.12439-0.59375-7.42297-0.22656.h5\n",
      "21/21 [==============================] - 95s 5s/step - loss: 1.1244 - categorical_accuracy: 0.5938 - val_loss: 7.4230 - val_categorical_accuracy: 0.2266 - lr: 1.6000e-08\n",
      "Epoch 20/25\n",
      "21/21 [==============================] - ETA: 0s - loss: 1.1293 - categorical_accuracy: 0.5804\n",
      "Epoch 00020: saving model to model5_init_2024-05-0110_14_08.858852/model-00020-1.12934-0.58036-7.34405-0.25000.h5\n",
      "21/21 [==============================] - 93s 5s/step - loss: 1.1293 - categorical_accuracy: 0.5804 - val_loss: 7.3441 - val_categorical_accuracy: 0.2500 - lr: 1.6000e-08\n",
      "Epoch 21/25\n",
      "21/21 [==============================] - ETA: 0s - loss: 1.1343 - categorical_accuracy: 0.5476\n",
      "Epoch 00021: saving model to model5_init_2024-05-0110_14_08.858852/model-00021-1.13429-0.54762-8.21085-0.21875.h5\n",
      "\n",
      "Epoch 00021: ReduceLROnPlateau reducing learning rate to 3.1999999094978194e-09.\n",
      "21/21 [==============================] - 95s 5s/step - loss: 1.1343 - categorical_accuracy: 0.5476 - val_loss: 8.2108 - val_categorical_accuracy: 0.2188 - lr: 1.6000e-08\n",
      "Epoch 22/25\n",
      "21/21 [==============================] - ETA: 0s - loss: 1.1193 - categorical_accuracy: 0.5818\n",
      "Epoch 00022: saving model to model5_init_2024-05-0110_14_08.858852/model-00022-1.11927-0.58185-8.65032-0.17969.h5\n",
      "21/21 [==============================] - 94s 5s/step - loss: 1.1193 - categorical_accuracy: 0.5818 - val_loss: 8.6503 - val_categorical_accuracy: 0.1797 - lr: 3.2000e-09\n",
      "Epoch 23/25\n",
      "21/21 [==============================] - ETA: 0s - loss: 1.1358 - categorical_accuracy: 0.5714\n",
      "Epoch 00023: saving model to model5_init_2024-05-0110_14_08.858852/model-00023-1.13575-0.57143-7.81062-0.32031.h5\n",
      "21/21 [==============================] - 94s 5s/step - loss: 1.1358 - categorical_accuracy: 0.5714 - val_loss: 7.8106 - val_categorical_accuracy: 0.3203 - lr: 3.2000e-09\n",
      "Epoch 24/25\n",
      "21/21 [==============================] - ETA: 0s - loss: 1.1231 - categorical_accuracy: 0.5714\n",
      "Epoch 00024: saving model to model5_init_2024-05-0110_14_08.858852/model-00024-1.12314-0.57143-9.59268-0.18750.h5\n",
      "21/21 [==============================] - 95s 5s/step - loss: 1.1231 - categorical_accuracy: 0.5714 - val_loss: 9.5927 - val_categorical_accuracy: 0.1875 - lr: 3.2000e-09\n",
      "Epoch 25/25\n",
      "21/21 [==============================] - ETA: 0s - loss: 1.1201 - categorical_accuracy: 0.5833\n",
      "Epoch 00025: saving model to model5_init_2024-05-0110_14_08.858852/model-00025-1.12008-0.58333-9.58974-0.23438.h5\n",
      "\n",
      "Epoch 00025: ReduceLROnPlateau reducing learning rate to 6.399999641359955e-10.\n",
      "21/21 [==============================] - 95s 5s/step - loss: 1.1201 - categorical_accuracy: 0.5833 - val_loss: 9.5897 - val_categorical_accuracy: 0.2344 - lr: 3.2000e-09\n"
     ]
    }
   ],
   "source": [
    "m5_num_epochs=25\n",
    "history5 = model5.fit(train_generator, steps_per_epoch=steps_per_epoch, epochs=m5_num_epochs, verbose=1, \n",
    "                    callbacks=callbacks_list, validation_data=val_generator, \n",
    "                    validation_steps=validation_steps, class_weight=None, workers=1, initial_epoch=0)"
   ]
  },
  {
   "cell_type": "code",
   "execution_count": 54,
   "metadata": {},
   "outputs": [
    {
     "data": {
      "text/plain": [
       "<Figure size 720x720 with 0 Axes>"
      ]
     },
     "metadata": {},
     "output_type": "display_data"
    },
    {
     "data": {
      "image/png": "[encoded data removed]",
      "text/plain": [
       "<Figure size 576x576 with 2 Axes>"
      ]
     },
     "metadata": {
      "needs_background": "light"
     },
     "output_type": "display_data"
    }
   ],
   "source": [
    "plot_accur_graph(history5,m5_num_epochs)"
   ]
  },
  {
   "cell_type": "markdown",
   "metadata": {},
   "source": [
    "# Model 6 - using VGG"
   ]
  },
  {
   "cell_type": "code",
   "execution_count": 23,
   "metadata": {},
   "outputs": [],
   "source": [
    "from keras.models import  Model\n",
    "from keras.applications.vgg16 import VGG16\n",
    "from keras.callbacks import ModelCheckpoint, ReduceLROnPlateau, EarlyStopping\n",
    "from keras import regularizers"
   ]
  },
  {
   "cell_type": "code",
   "execution_count": 24,
   "metadata": {},
   "outputs": [],
   "source": [
    "batch_size = 32 \n",
    "HEIGHT_DIMENSION=120 \n",
    "WIDTH_DIMENSION=120\n",
    "INPUT_SIZE_IN_BATCH=20\n",
    "INPUT_PER_FOLDER=30\n",
    "y=HEIGHT_DIMENSION\n",
    "z=WIDTH_DIMENSION"
   ]
  },
  {
   "cell_type": "code",
   "execution_count": 3,
   "metadata": {},
   "outputs": [
    {
     "name": "stdout",
     "output_type": "stream",
     "text": [
      "Requirement already satisfied: scipy==1.1.0 in /usr/local/lib/python3.8/dist-packages (1.1.0)\n",
      "Requirement already satisfied: numpy>=1.8.2 in /usr/local/lib/python3.8/dist-packages (from scipy==1.1.0) (1.19.4)\n",
      "\u001b[33mWARNING: Running pip as the 'root' user can result in broken permissions and conflicting behaviour with the system package manager. It is recommended to use a virtual environment instead: https://pip.pypa.io/warnings/venv\u001b[0m\u001b[33m\n",
      "\u001b[0m\u001b[33mWARNING: You are using pip version 22.0.3; however, version 24.0 is available.\n",
      "You should consider upgrading via the '/usr/bin/python -m pip install --upgrade pip' command.\u001b[0m\u001b[33m\n",
      "\u001b[0m"
     ]
    }
   ],
   "source": [
    "!pip install scipy==1.1.0"
   ]
  },
  {
   "cell_type": "code",
   "execution_count": 25,
   "metadata": {},
   "outputs": [],
   "source": [
    "from scipy.misc import imread, imresize\n",
    "def cropAndResize(imag,HEIGHT_DIMENSION,WIDTH_DIMENSION):\n",
    "    if abs(imag.shape[0]-imag.shape[1])%2==0 and imag.shape[0]!=imag.shape[1]:\n",
    "        dimension_diff=abs(imag.shape[0]-imag.shape[1])\n",
    "        cropping_ratio=dimension_diff//2\n",
    "        if imag.shape[0]>imag.shape[1]:\n",
    "            imag=imag[cropping_ratio:imag.shape[0]-cropping_ratio,:,:]\n",
    "        elif imag.shape[0]<imag.shape[1]:\n",
    "            imag=imag[:,cropping_ratio:imag.shape[1]-cropping_ratio,:]\n",
    "                    \n",
    "    \n",
    "    if imag.shape[0]>HEIGHT_DIMENSION or imag.shape[1]>WIDTH_DIMENSION:\n",
    "        imag=imresize(imag,size=(HEIGHT_DIMENSION,WIDTH_DIMENSION),\n",
    "                      interp='bilinear',mode='RGB')\n",
    "        \n",
    "    return imag"
   ]
  },
  {
   "cell_type": "code",
   "execution_count": 26,
   "metadata": {},
   "outputs": [],
   "source": [
    "def normalize(imag):    \n",
    "    return (imag[:,:,0]-imag[:,:,0].mean())/imag[:,:,0].std(), (imag[:,:,1]-imag[:,:,1].mean())/imag[:,:,1].std(), (imag[:,:,2]-imag[:,:,2].mean())/imag[:,:,2].std()"
   ]
  },
  {
   "cell_type": "code",
   "execution_count": 27,
   "metadata": {},
   "outputs": [],
   "source": [
    "def generator(source_path, folder_list, batch_size):\n",
    "    print(\"Inside generator\")\n",
    "    print( 'Source path = ', source_path, '; batch size =', batch_size)\n",
    "    NUM_FOLDERS=len(folder_list)\n",
    "    num_batches = NUM_FOLDERS//batch_size\n",
    "    remaining_batch_size=NUM_FOLDERS%batch_size\n",
    "    while True:        \n",
    "        t = np.random.permutation(folder_list)                \n",
    "        for batch in range(num_batches): # we iteratINPUT_SIZE_IN_BATCHe,INPUT_SIZE_IN_BATCH over the number of batches\n",
    "            batch_data = np.zeros((batch_size,INPUT_SIZE_IN_BATCH,y,z,3))\n",
    "            batch_labels = np.zeros((batch_size,5)) # batch_labels is the one hot representation of the output\n",
    "            mandatory = [0,1,28,29]\n",
    "            random_list_1 = rn.sample(range(2,28),INPUT_SIZE_IN_BATCH - 4)\n",
    "            random_list_1.extend(mandatory)\n",
    "            random_list_1.sort()\n",
    "            for folder in range(batch_size): # iterate over the batch_size\n",
    "                imgs = os.listdir(source_path+'/'+ t[folder + (batch*batch_size)].split(';')[0]) # read all the images in the folder\n",
    "                for idx,item in enumerate(random_list_1): #  Iterate iver the frames/images of a folder to read them in\n",
    "                    imag = imread(source_path+'/'+ t[folder + (batch*batch_size)].strip().split(';')[0]+'/'+imgs[item]).astype(np.float32)\n",
    "                    imag = cropAndResize(imag,HEIGHT_DIMENSION,WIDTH_DIMENSION)\n",
    "                    #NORMALIZING   \n",
    "                    batch_data[folder,idx,:,:,0], batch_data[folder,idx,:,:,1], batch_data[folder,idx,:,:,2] = normalize(imag)                            \n",
    "                                \n",
    "                batch_labels[folder, int(t[folder + (batch*batch_size)].strip().split(';')[2])] = 1                \n",
    "                               \n",
    "            yield batch_data, batch_labels #you yield the batch_data and the batch_labels, remember what does yield do\n",
    "        \n",
    "        for batch in range(num_batches,num_batches+1): # we iterate over the number of batches\n",
    "            rem_batch_data = np.zeros((remaining_batch_size*2,INPUT_SIZE_IN_BATCH,y,z,3)) # x is the number of images you use for each video, (y,z) is the final size of the input images and 3 is the number of channels RGB\n",
    "            rem_batch_labels = np.zeros((remaining_batch_size*2,5)) # batch_labels is the one hot representation of the output\n",
    "            mandatory = [0,1,28,29]\n",
    "            random_list_1 = rn.sample(range(2,28),INPUT_SIZE_IN_BATCH - 4)\n",
    "            random_list_1.extend(mandatory)\n",
    "            random_list_1.sort()\n",
    "            for folder in range(remaining_batch_size): # iterate over the batch_size\n",
    "                imgs = os.listdir(source_path+'/'+ t[folder + (batch*batch_size)].split(';')[0]) # read all the images in the folder\n",
    "                for idx,item in enumerate(random_list_1): #  Iterate iver the frames/images of a folder to read them in\n",
    "                    imag = imread(source_path+'/'+ t[folder + (batch*batch_size)].strip().split(';')[0]+'/'+imgs[item]).astype(np.float32)\n",
    "                    imag = cropAndResize(imag,HEIGHT_DIMENSION,WIDTH_DIMENSION)\n",
    "                    #NORMALIZING   \n",
    "                    rem_batch_data[folder,idx,:,:,0], rem_batch_data[folder,idx,:,:,1], rem_batch_data[folder,idx,:,:,2] = normalize(imag)\n",
    "                                \n",
    "                rem_batch_labels[folder, int(t[folder + (batch*batch_size)].strip().split(';')[2])] = 1\n",
    "                \n",
    "        yield rem_batch_data, rem_batch_labels"
   ]
  },
  {
   "cell_type": "code",
   "execution_count": 19,
   "metadata": {},
   "outputs": [
    {
     "name": "stdout",
     "output_type": "stream",
     "text": [
      "# training sequences = 663\n",
      "# validation sequences = 100\n",
      "# epochs = 50\n"
     ]
    }
   ],
   "source": [
    "import datetime\n",
    "curr_dt_time = datetime.datetime.now()\n",
    "train_path = base_path+'Project_data/train' #'/notebooks/storage/Final_data/Collated_training/train'\n",
    "val_path = base_path+'Project_data/val' #'/notebooks/storage/Final_data/Collated_training/val'\n",
    "num_train_sequences = len(train_doc)\n",
    "print('# training sequences =', num_train_sequences)\n",
    "num_val_sequences = len(val_doc)\n",
    "print('# validation sequences =', num_val_sequences)\n",
    "num_epochs = 50 # choose the number of epochs\n",
    "print ('# epochs =', num_epochs)"
   ]
  },
  {
   "cell_type": "code",
   "execution_count": 28,
   "metadata": {},
   "outputs": [],
   "source": [
    "from keras.layers import CuDNNLSTM,Flatten\n",
    "base_model = VGG16(include_top=False, weights='imagenet',input_shape=(WIDTH_DIMENSION, HEIGHT_DIMENSION,3))\n",
    "x = base_model.output\n",
    "x = Flatten()(x)\n",
    "\n",
    "for layer in base_model.layers:\n",
    "    layer.trainable = False\n",
    "\n",
    "model = Model(inputs=base_model.input, outputs=x)\n",
    "\n",
    "fin_model = Sequential()\n",
    "fin_model.add(TimeDistributed(model, input_shape=(INPUT_SIZE_IN_BATCH,WIDTH_DIMENSION,HEIGHT_DIMENSION,3)))\n",
    "fin_model.add(CuDNNLSTM(64,return_sequences=False))\n",
    "fin_model.add(Dropout(0.5))\n",
    "fin_model.add(Dense(5, activation='softmax'))"
   ]
  },
  {
   "cell_type": "code",
   "execution_count": 29,
   "metadata": {},
   "outputs": [
    {
     "name": "stdout",
     "output_type": "stream",
     "text": [
      "Model: \"sequential\"\n",
      "_________________________________________________________________\n",
      " Layer (type)                Output Shape              Param #   \n",
      "=================================================================\n",
      " time_distributed (TimeDistr  (None, 20, 4608)         14714688  \n",
      " ibuted)                                                         \n",
      "                                                                 \n",
      " cu_dnnlstm (CuDNNLSTM)      (None, 64)                1196544   \n",
      "                                                                 \n",
      " dropout (Dropout)           (None, 64)                0         \n",
      "                                                                 \n",
      " dense (Dense)               (None, 5)                 325       \n",
      "                                                                 \n",
      "=================================================================\n",
      "Total params: 15,911,557\n",
      "Trainable params: 1,196,869\n",
      "Non-trainable params: 14,714,688\n",
      "_________________________________________________________________\n",
      "None\n"
     ]
    }
   ],
   "source": [
    "fin_model.compile(optimizer=tf.keras.optimizers.Adam(learning_rate=0.00001), loss='categorical_crossentropy', metrics=['categorical_accuracy'])\n",
    "print (fin_model.summary())"
   ]
  },
  {
   "cell_type": "code",
   "execution_count": 30,
   "metadata": {},
   "outputs": [],
   "source": [
    "train_generator = generator(train_path, train_doc, batch_size)\n",
    "val_generator = generator(val_path, val_doc, batch_size)"
   ]
  },
  {
   "cell_type": "code",
   "execution_count": 31,
   "metadata": {},
   "outputs": [
    {
     "name": "stdout",
     "output_type": "stream",
     "text": [
      "WARNING:tensorflow:`period` argument is deprecated. Please use `save_freq` to specify the frequency in number of batches seen.\n"
     ]
    }
   ],
   "source": [
    "model_name = 'model6_init' + '_' + str(curr_dt_time).replace(' ','').replace(':','_') + '/'\n",
    "    \n",
    "if not os.path.exists(model_name):\n",
    "    os.mkdir(model_name)\n",
    "        \n",
    "filepath = model_name + 'hgr_sgd.h5'\n",
    "\n",
    "checkpoint = ModelCheckpoint(filepath, monitor='val_categorical_accuracy', verbose=1, save_best_only=True, save_weights_only=False, mode='auto', period=1)\n",
    "LR = ReduceLROnPlateau(monitor='val_loss', factor=0.2, patience=2, verbose=1, mode='auto', min_delta=0.0001, cooldown=0, min_lr=0.000001) # write the REducelronplateau code here\n",
    "ES = EarlyStopping(monitor='val_categorical_accuracy', min_delta=0, patience=10, verbose=1, mode='auto', baseline=None, restore_best_weights=True)\n",
    "callbacks_list = [checkpoint,LR,ES]"
   ]
  },
  {
   "cell_type": "code",
   "execution_count": 32,
   "metadata": {},
   "outputs": [],
   "source": [
    "if (num_train_sequences%batch_size) == 0:\n",
    "    steps_per_epoch = int(num_train_sequences/batch_size)\n",
    "else:\n",
    "    steps_per_epoch = (num_train_sequences//batch_size) + 1\n",
    "\n",
    "if (num_val_sequences%batch_size) == 0:\n",
    "    validation_steps = int(num_val_sequences/batch_size)\n",
    "else:\n",
    "    validation_steps = (num_val_sequences//batch_size) + 1"
   ]
  },
  {
   "cell_type": "code",
   "execution_count": 33,
   "metadata": {},
   "outputs": [
    {
     "name": "stderr",
     "output_type": "stream",
     "text": [
      "/tmp/ipykernel_4462/558355507.py:1: UserWarning: `Model.fit_generator` is deprecated and will be removed in a future version. Please use `Model.fit`, which supports generators.\n",
      "  history6=fin_model.fit_generator(train_generator, steps_per_epoch=steps_per_epoch, epochs=50, verbose=1,\n",
      "/tmp/ipykernel_4462/286454884.py:19: DeprecationWarning:     `imread` is deprecated!\n",
      "    `imread` is deprecated in SciPy 1.0.0, and will be removed in 1.2.0.\n",
      "    Use ``imageio.imread`` instead.\n",
      "  imag = imread(source_path+'/'+ t[folder + (batch*batch_size)].strip().split(';')[0]+'/'+imgs[item]).astype(np.float32)\n"
     ]
    },
    {
     "name": "stdout",
     "output_type": "stream",
     "text": [
      "Inside generator\n",
      "Source path =  /datasets/Project_data/train ; batch size = 32\n"
     ]
    },
    {
     "name": "stderr",
     "output_type": "stream",
     "text": [
      "/tmp/ipykernel_4462/562910763.py:13: DeprecationWarning:     `imresize` is deprecated!\n",
      "    `imresize` is deprecated in SciPy 1.0.0, and will be removed in 1.2.0.\n",
      "    Use ``skimage.transform.resize`` instead.\n",
      "  imag=imresize(imag,size=(HEIGHT_DIMENSION,WIDTH_DIMENSION),\n"
     ]
    },
    {
     "name": "stdout",
     "output_type": "stream",
     "text": [
      "Epoch 1/50\n"
     ]
    },
    {
     "name": "stderr",
     "output_type": "stream",
     "text": [
      "2024-05-01 11:43:32.751736: I tensorflow/stream_executor/cuda/cuda_dnn.cc:377] Loaded cuDNN version 8302\n"
     ]
    },
    {
     "name": "stdout",
     "output_type": "stream",
     "text": [
      "19/21 [==========================>...] - ETA: 4s - loss: 1.8002 - categorical_accuracy: 0.1661"
     ]
    },
    {
     "name": "stderr",
     "output_type": "stream",
     "text": [
      "/tmp/ipykernel_4462/286454884.py:38: DeprecationWarning:     `imread` is deprecated!\n",
      "    `imread` is deprecated in SciPy 1.0.0, and will be removed in 1.2.0.\n",
      "    Use ``imageio.imread`` instead.\n",
      "  imag = imread(source_path+'/'+ t[folder + (batch*batch_size)].strip().split(';')[0]+'/'+imgs[item]).astype(np.float32)\n"
     ]
    },
    {
     "name": "stdout",
     "output_type": "stream",
     "text": [
      "21/21 [==============================] - ETA: 0s - loss: 1.7413 - categorical_accuracy: 0.1603Inside generator\n",
      "Source path =  /datasets/Project_data/val ; batch size = 32\n",
      "\n",
      "Epoch 00001: val_categorical_accuracy improved from -inf to 0.17308, saving model to model6_init_2024-05-0111_41_55.795012/hgr_sgd.h5\n",
      "21/21 [==============================] - 75s 3s/step - loss: 1.7413 - categorical_accuracy: 0.1603 - val_loss: 1.5927 - val_categorical_accuracy: 0.1731 - lr: 1.0000e-05\n",
      "Epoch 2/50\n",
      "21/21 [==============================] - ETA: 0s - loss: 1.6538 - categorical_accuracy: 0.2318\n",
      "Epoch 00002: val_categorical_accuracy improved from 0.17308 to 0.23077, saving model to model6_init_2024-05-0111_41_55.795012/hgr_sgd.h5\n",
      "21/21 [==============================] - 57s 3s/step - loss: 1.6538 - categorical_accuracy: 0.2318 - val_loss: 1.5518 - val_categorical_accuracy: 0.2308 - lr: 1.0000e-05\n",
      "Epoch 3/50\n",
      "21/21 [==============================] - ETA: 0s - loss: 1.6079 - categorical_accuracy: 0.2318\n",
      "Epoch 00003: val_categorical_accuracy improved from 0.23077 to 0.25962, saving model to model6_init_2024-05-0111_41_55.795012/hgr_sgd.h5\n",
      "21/21 [==============================] - 52s 3s/step - loss: 1.6079 - categorical_accuracy: 0.2318 - val_loss: 1.4924 - val_categorical_accuracy: 0.2596 - lr: 1.0000e-05\n",
      "Epoch 4/50\n",
      "21/21 [==============================] - ETA: 0s - loss: 1.5644 - categorical_accuracy: 0.2478\n",
      "Epoch 00004: val_categorical_accuracy improved from 0.25962 to 0.29808, saving model to model6_init_2024-05-0111_41_55.795012/hgr_sgd.h5\n",
      "21/21 [==============================] - 50s 2s/step - loss: 1.5644 - categorical_accuracy: 0.2478 - val_loss: 1.4930 - val_categorical_accuracy: 0.2981 - lr: 1.0000e-05\n",
      "Epoch 5/50\n",
      "21/21 [==============================] - ETA: 0s - loss: 1.5453 - categorical_accuracy: 0.2536\n",
      "Epoch 00005: val_categorical_accuracy improved from 0.29808 to 0.34615, saving model to model6_init_2024-05-0111_41_55.795012/hgr_sgd.h5\n",
      "21/21 [==============================] - 51s 3s/step - loss: 1.5453 - categorical_accuracy: 0.2536 - val_loss: 1.4568 - val_categorical_accuracy: 0.3462 - lr: 1.0000e-05\n",
      "Epoch 6/50\n",
      "21/21 [==============================] - ETA: 0s - loss: 1.4986 - categorical_accuracy: 0.2886\n",
      "Epoch 00006: val_categorical_accuracy did not improve from 0.34615\n",
      "21/21 [==============================] - 51s 3s/step - loss: 1.4986 - categorical_accuracy: 0.2886 - val_loss: 1.4429 - val_categorical_accuracy: 0.3462 - lr: 1.0000e-05\n",
      "Epoch 7/50\n",
      "21/21 [==============================] - ETA: 0s - loss: 1.5285 - categorical_accuracy: 0.2595\n",
      "Epoch 00007: val_categorical_accuracy improved from 0.34615 to 0.46154, saving model to model6_init_2024-05-0111_41_55.795012/hgr_sgd.h5\n",
      "21/21 [==============================] - 53s 3s/step - loss: 1.5285 - categorical_accuracy: 0.2595 - val_loss: 1.4159 - val_categorical_accuracy: 0.4615 - lr: 1.0000e-05\n",
      "Epoch 8/50\n",
      "21/21 [==============================] - ETA: 0s - loss: 1.4584 - categorical_accuracy: 0.3120\n",
      "Epoch 00008: val_categorical_accuracy did not improve from 0.46154\n",
      "21/21 [==============================] - 50s 2s/step - loss: 1.4584 - categorical_accuracy: 0.3120 - val_loss: 1.4076 - val_categorical_accuracy: 0.4327 - lr: 1.0000e-05\n",
      "Epoch 9/50\n",
      "21/21 [==============================] - ETA: 0s - loss: 1.4218 - categorical_accuracy: 0.3644\n",
      "Epoch 00009: val_categorical_accuracy improved from 0.46154 to 0.47115, saving model to model6_init_2024-05-0111_41_55.795012/hgr_sgd.h5\n",
      "21/21 [==============================] - 52s 3s/step - loss: 1.4218 - categorical_accuracy: 0.3644 - val_loss: 1.3825 - val_categorical_accuracy: 0.4712 - lr: 1.0000e-05\n",
      "Epoch 10/50\n",
      "21/21 [==============================] - ETA: 0s - loss: 1.3973 - categorical_accuracy: 0.3703\n",
      "Epoch 00010: val_categorical_accuracy improved from 0.47115 to 0.50962, saving model to model6_init_2024-05-0111_41_55.795012/hgr_sgd.h5\n",
      "21/21 [==============================] - 52s 3s/step - loss: 1.3973 - categorical_accuracy: 0.3703 - val_loss: 1.3393 - val_categorical_accuracy: 0.5096 - lr: 1.0000e-05\n",
      "Epoch 11/50\n",
      "21/21 [==============================] - ETA: 0s - loss: 1.3454 - categorical_accuracy: 0.4329\n",
      "Epoch 00011: val_categorical_accuracy did not improve from 0.50962\n",
      "21/21 [==============================] - 52s 3s/step - loss: 1.3454 - categorical_accuracy: 0.4329 - val_loss: 1.3523 - val_categorical_accuracy: 0.4712 - lr: 1.0000e-05\n",
      "Epoch 12/50\n",
      "21/21 [==============================] - ETA: 0s - loss: 1.3598 - categorical_accuracy: 0.4067\n",
      "Epoch 00012: val_categorical_accuracy did not improve from 0.50962\n",
      "21/21 [==============================] - 50s 2s/step - loss: 1.3598 - categorical_accuracy: 0.4067 - val_loss: 1.3269 - val_categorical_accuracy: 0.5000 - lr: 1.0000e-05\n",
      "Epoch 13/50\n",
      "21/21 [==============================] - ETA: 0s - loss: 1.3068 - categorical_accuracy: 0.4417\n",
      "Epoch 00013: val_categorical_accuracy improved from 0.50962 to 0.52885, saving model to model6_init_2024-05-0111_41_55.795012/hgr_sgd.h5\n",
      "21/21 [==============================] - 51s 3s/step - loss: 1.3068 - categorical_accuracy: 0.4417 - val_loss: 1.3138 - val_categorical_accuracy: 0.5288 - lr: 1.0000e-05\n",
      "Epoch 14/50\n",
      "21/21 [==============================] - ETA: 0s - loss: 1.2701 - categorical_accuracy: 0.4621\n",
      "Epoch 00014: val_categorical_accuracy improved from 0.52885 to 0.54808, saving model to model6_init_2024-05-0111_41_55.795012/hgr_sgd.h5\n",
      "21/21 [==============================] - 53s 3s/step - loss: 1.2701 - categorical_accuracy: 0.4621 - val_loss: 1.2872 - val_categorical_accuracy: 0.5481 - lr: 1.0000e-05\n",
      "Epoch 15/50\n",
      "21/21 [==============================] - ETA: 0s - loss: 1.2705 - categorical_accuracy: 0.4694\n",
      "Epoch 00015: val_categorical_accuracy did not improve from 0.54808\n",
      "21/21 [==============================] - 52s 3s/step - loss: 1.2705 - categorical_accuracy: 0.4694 - val_loss: 1.2958 - val_categorical_accuracy: 0.5000 - lr: 1.0000e-05\n",
      "Epoch 16/50\n",
      "21/21 [==============================] - ETA: 0s - loss: 1.1933 - categorical_accuracy: 0.5437\n",
      "Epoch 00016: val_categorical_accuracy did not improve from 0.54808\n",
      "21/21 [==============================] - 49s 2s/step - loss: 1.1933 - categorical_accuracy: 0.5437 - val_loss: 1.2531 - val_categorical_accuracy: 0.5192 - lr: 1.0000e-05\n",
      "Epoch 17/50\n",
      "21/21 [==============================] - ETA: 0s - loss: 1.1846 - categorical_accuracy: 0.5554\n",
      "Epoch 00017: val_categorical_accuracy improved from 0.54808 to 0.55769, saving model to model6_init_2024-05-0111_41_55.795012/hgr_sgd.h5\n",
      "21/21 [==============================] - 52s 3s/step - loss: 1.1846 - categorical_accuracy: 0.5554 - val_loss: 1.2293 - val_categorical_accuracy: 0.5577 - lr: 1.0000e-05\n",
      "Epoch 18/50\n",
      "21/21 [==============================] - ETA: 0s - loss: 1.1505 - categorical_accuracy: 0.5525\n",
      "Epoch 00018: val_categorical_accuracy improved from 0.55769 to 0.56731, saving model to model6_init_2024-05-0111_41_55.795012/hgr_sgd.h5\n",
      "21/21 [==============================] - 52s 3s/step - loss: 1.1505 - categorical_accuracy: 0.5525 - val_loss: 1.1825 - val_categorical_accuracy: 0.5673 - lr: 1.0000e-05\n",
      "Epoch 19/50\n",
      "21/21 [==============================] - ETA: 0s - loss: 1.1219 - categorical_accuracy: 0.5627\n",
      "Epoch 00019: val_categorical_accuracy did not improve from 0.56731\n",
      "21/21 [==============================] - 53s 3s/step - loss: 1.1219 - categorical_accuracy: 0.5627 - val_loss: 1.1865 - val_categorical_accuracy: 0.5673 - lr: 1.0000e-05\n",
      "Epoch 20/50\n",
      "21/21 [==============================] - ETA: 0s - loss: 1.0784 - categorical_accuracy: 0.5831\n",
      "Epoch 00020: val_categorical_accuracy improved from 0.56731 to 0.57692, saving model to model6_init_2024-05-0111_41_55.795012/hgr_sgd.h5\n",
      "21/21 [==============================] - 52s 3s/step - loss: 1.0784 - categorical_accuracy: 0.5831 - val_loss: 1.1624 - val_categorical_accuracy: 0.5769 - lr: 1.0000e-05\n",
      "Epoch 21/50\n",
      "21/21 [==============================] - ETA: 0s - loss: 1.0501 - categorical_accuracy: 0.5845\n",
      "Epoch 00021: val_categorical_accuracy did not improve from 0.57692\n",
      "21/21 [==============================] - 53s 3s/step - loss: 1.0501 - categorical_accuracy: 0.5845 - val_loss: 1.1365 - val_categorical_accuracy: 0.5769 - lr: 1.0000e-05\n",
      "Epoch 22/50\n",
      "21/21 [==============================] - ETA: 0s - loss: 1.0284 - categorical_accuracy: 0.6006\n",
      "Epoch 00022: val_categorical_accuracy improved from 0.57692 to 0.66346, saving model to model6_init_2024-05-0111_41_55.795012/hgr_sgd.h5\n",
      "21/21 [==============================] - 53s 3s/step - loss: 1.0284 - categorical_accuracy: 0.6006 - val_loss: 1.0793 - val_categorical_accuracy: 0.6635 - lr: 1.0000e-05\n",
      "Epoch 23/50\n",
      "21/21 [==============================] - ETA: 0s - loss: 0.9928 - categorical_accuracy: 0.6341\n",
      "Epoch 00023: val_categorical_accuracy did not improve from 0.66346\n",
      "21/21 [==============================] - 53s 3s/step - loss: 0.9928 - categorical_accuracy: 0.6341 - val_loss: 1.0705 - val_categorical_accuracy: 0.6346 - lr: 1.0000e-05\n",
      "Epoch 24/50\n",
      "21/21 [==============================] - ETA: 0s - loss: 0.9668 - categorical_accuracy: 0.6399\n",
      "Epoch 00024: val_categorical_accuracy did not improve from 0.66346\n",
      "21/21 [==============================] - 50s 2s/step - loss: 0.9668 - categorical_accuracy: 0.6399 - val_loss: 1.0697 - val_categorical_accuracy: 0.5962 - lr: 1.0000e-05\n",
      "Epoch 25/50\n",
      "21/21 [==============================] - ETA: 0s - loss: 0.9553 - categorical_accuracy: 0.6443\n",
      "Epoch 00025: val_categorical_accuracy did not improve from 0.66346\n",
      "21/21 [==============================] - 51s 3s/step - loss: 0.9553 - categorical_accuracy: 0.6443 - val_loss: 1.0622 - val_categorical_accuracy: 0.6538 - lr: 1.0000e-05\n",
      "Epoch 26/50\n",
      "21/21 [==============================] - ETA: 0s - loss: 0.9208 - categorical_accuracy: 0.6808\n",
      "Epoch 00026: val_categorical_accuracy did not improve from 0.66346\n",
      "21/21 [==============================] - 52s 3s/step - loss: 0.9208 - categorical_accuracy: 0.6808 - val_loss: 1.0423 - val_categorical_accuracy: 0.6635 - lr: 1.0000e-05\n",
      "Epoch 27/50\n",
      "21/21 [==============================] - ETA: 0s - loss: 0.8928 - categorical_accuracy: 0.6706\n",
      "Epoch 00027: val_categorical_accuracy did not improve from 0.66346\n",
      "21/21 [==============================] - 51s 3s/step - loss: 0.8928 - categorical_accuracy: 0.6706 - val_loss: 1.0069 - val_categorical_accuracy: 0.6538 - lr: 1.0000e-05\n",
      "Epoch 28/50\n",
      "21/21 [==============================] - ETA: 0s - loss: 0.8554 - categorical_accuracy: 0.7012\n",
      "Epoch 00028: val_categorical_accuracy improved from 0.66346 to 0.67308, saving model to model6_init_2024-05-0111_41_55.795012/hgr_sgd.h5\n",
      "21/21 [==============================] - 49s 2s/step - loss: 0.8554 - categorical_accuracy: 0.7012 - val_loss: 1.0046 - val_categorical_accuracy: 0.6731 - lr: 1.0000e-05\n",
      "Epoch 29/50\n",
      "21/21 [==============================] - ETA: 0s - loss: 0.8263 - categorical_accuracy: 0.7157\n",
      "Epoch 00029: val_categorical_accuracy did not improve from 0.67308\n",
      "21/21 [==============================] - 50s 2s/step - loss: 0.8263 - categorical_accuracy: 0.7157 - val_loss: 0.9789 - val_categorical_accuracy: 0.6731 - lr: 1.0000e-05\n",
      "Epoch 30/50\n",
      "21/21 [==============================] - ETA: 0s - loss: 0.8123 - categorical_accuracy: 0.7114\n",
      "Epoch 00030: val_categorical_accuracy improved from 0.67308 to 0.73077, saving model to model6_init_2024-05-0111_41_55.795012/hgr_sgd.h5\n",
      "21/21 [==============================] - 53s 3s/step - loss: 0.8123 - categorical_accuracy: 0.7114 - val_loss: 0.9381 - val_categorical_accuracy: 0.7308 - lr: 1.0000e-05\n",
      "Epoch 31/50\n",
      "21/21 [==============================] - ETA: 0s - loss: 0.7824 - categorical_accuracy: 0.7201\n",
      "Epoch 00031: val_categorical_accuracy did not improve from 0.73077\n",
      "21/21 [==============================] - 53s 3s/step - loss: 0.7824 - categorical_accuracy: 0.7201 - val_loss: 0.9570 - val_categorical_accuracy: 0.6731 - lr: 1.0000e-05\n",
      "Epoch 32/50\n",
      "21/21 [==============================] - ETA: 0s - loss: 0.7893 - categorical_accuracy: 0.7216\n",
      "Epoch 00032: val_categorical_accuracy did not improve from 0.73077\n",
      "21/21 [==============================] - 50s 2s/step - loss: 0.7893 - categorical_accuracy: 0.7216 - val_loss: 0.9286 - val_categorical_accuracy: 0.7308 - lr: 1.0000e-05\n",
      "Epoch 33/50\n",
      "21/21 [==============================] - ETA: 0s - loss: 0.7396 - categorical_accuracy: 0.7449\n",
      "Epoch 00033: val_categorical_accuracy did not improve from 0.73077\n",
      "21/21 [==============================] - 51s 3s/step - loss: 0.7396 - categorical_accuracy: 0.7449 - val_loss: 0.9258 - val_categorical_accuracy: 0.7212 - lr: 1.0000e-05\n",
      "Epoch 34/50\n",
      "21/21 [==============================] - ETA: 0s - loss: 0.7421 - categorical_accuracy: 0.7172\n",
      "Epoch 00034: val_categorical_accuracy did not improve from 0.73077\n",
      "21/21 [==============================] - 53s 3s/step - loss: 0.7421 - categorical_accuracy: 0.7172 - val_loss: 0.9128 - val_categorical_accuracy: 0.7019 - lr: 1.0000e-05\n",
      "Epoch 35/50\n",
      "21/21 [==============================] - ETA: 0s - loss: 0.7004 - categorical_accuracy: 0.7595\n",
      "Epoch 00035: val_categorical_accuracy did not improve from 0.73077\n",
      "21/21 [==============================] - 53s 3s/step - loss: 0.7004 - categorical_accuracy: 0.7595 - val_loss: 0.8737 - val_categorical_accuracy: 0.7308 - lr: 1.0000e-05\n",
      "Epoch 36/50\n",
      "21/21 [==============================] - ETA: 0s - loss: 0.6861 - categorical_accuracy: 0.7668\n",
      "Epoch 00036: val_categorical_accuracy did not improve from 0.73077\n",
      "21/21 [==============================] - 50s 2s/step - loss: 0.6861 - categorical_accuracy: 0.7668 - val_loss: 0.9035 - val_categorical_accuracy: 0.6827 - lr: 1.0000e-05\n",
      "Epoch 37/50\n",
      "21/21 [==============================] - ETA: 0s - loss: 0.6527 - categorical_accuracy: 0.7959\n",
      "Epoch 00037: val_categorical_accuracy did not improve from 0.73077\n",
      "\n",
      "Epoch 00037: ReduceLROnPlateau reducing learning rate to 1.9999999494757505e-06.\n",
      "21/21 [==============================] - 52s 3s/step - loss: 0.6527 - categorical_accuracy: 0.7959 - val_loss: 0.8823 - val_categorical_accuracy: 0.7019 - lr: 1.0000e-05\n",
      "Epoch 38/50\n",
      "21/21 [==============================] - ETA: 0s - loss: 0.6329 - categorical_accuracy: 0.7770\n",
      "Epoch 00038: val_categorical_accuracy did not improve from 0.73077\n",
      "21/21 [==============================] - 52s 3s/step - loss: 0.6329 - categorical_accuracy: 0.7770 - val_loss: 0.8094 - val_categorical_accuracy: 0.7212 - lr: 2.0000e-06\n",
      "Epoch 39/50\n",
      "21/21 [==============================] - ETA: 0s - loss: 0.6187 - categorical_accuracy: 0.7930\n",
      "Epoch 00039: val_categorical_accuracy did not improve from 0.73077\n",
      "21/21 [==============================] - 52s 3s/step - loss: 0.6187 - categorical_accuracy: 0.7930 - val_loss: 0.8838 - val_categorical_accuracy: 0.7019 - lr: 2.0000e-06\n",
      "Epoch 40/50\n",
      "21/21 [==============================] - ETA: 0s - loss: 0.6336 - categorical_accuracy: 0.7799\n",
      "Epoch 00040: val_categorical_accuracy did not improve from 0.73077\n",
      "\n",
      "Epoch 00040: ReduceLROnPlateau reducing learning rate to 1e-06.\n",
      "Restoring model weights from the end of the best epoch: 30.\n",
      "21/21 [==============================] - 49s 2s/step - loss: 0.6336 - categorical_accuracy: 0.7799 - val_loss: 0.8656 - val_categorical_accuracy: 0.7308 - lr: 2.0000e-06\n",
      "Epoch 00040: early stopping\n"
     ]
    }
   ],
   "source": [
    "history6=fin_model.fit_generator(train_generator, steps_per_epoch=steps_per_epoch, epochs=50, verbose=1, \n",
    "                    callbacks=callbacks_list, validation_data=val_generator, \n",
    "                    validation_steps=validation_steps, class_weight=None, workers=1, initial_epoch=0)"
   ]
  },
  {
   "cell_type": "code",
   "execution_count": 37,
   "metadata": {},
   "outputs": [
    {
     "data": {
      "text/plain": [
       "<Figure size 720x720 with 0 Axes>"
      ]
     },
     "metadata": {},
     "output_type": "display_data"
    },
    {
     "data": {
      "image/png": "[encoded data removed]",
      "text/plain": [
       "<Figure size 576x576 with 2 Axes>"
      ]
     },
     "metadata": {
      "needs_background": "light"
     },
     "output_type": "display_data"
    }
   ],
   "source": [
    "plot_accur_graph(history6,40)"
   ]
  },
  {
   "cell_type": "code",
   "execution_count": null,
   "metadata": {},
   "outputs": [],
   "source": []
  }
 ],
 "metadata": {
  "accelerator": "TPU",
  "colab": {
   "gpuType": "V28",
   "provenance": []
  },
  "kernelspec": {
   "display_name": "Python 3 (ipykernel)",
   "language": "python",
   "name": "python3"
  },
  "language_info": {
   "codemirror_mode": {
    "name": "ipython",
    "version": 3
   },
   "file_extension": ".py",
   "mimetype": "text/x-python",
   "name": "python",
   "nbconvert_exporter": "python",
   "pygments_lexer": "ipython3",
   "version": "3.11.3"
  }
 },
 "nbformat": 4,
 "nbformat_minor": 4
}
